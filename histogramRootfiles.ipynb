{
 "cells": [
  {
   "cell_type": "code",
   "execution_count": 1,
   "metadata": {},
   "outputs": [
    {
     "name": "stdout",
     "output_type": "stream",
     "text": [
      "['/ceph/aissac/ntuple_for_graphs/prod_2018_v2_processed_v5_THESIS/trimmed_200000_and_cut_puppiWeightNoLep_greater_0_and_deltaR_smaller_0point5/DYJetsToLL_M-50_taus.root:taus',\n",
      " '/ceph/aissac/ntuple_for_graphs/prod_2018_v2_processed_v5_THESIS/trimmed_200000_and_cut_puppiWeightNoLep_greater_0_and_deltaR_smaller_0point5/DYJetsToLL_M-50_jets.root:taus']\n",
      "\n",
      "(\"keys: ['tau_byDeepTau2017v2p1VSjetraw', 'tau_byDeepTau2017v2p1VSjet', \"\n",
      " \"'tau_byDeepTau2017v2p1VSeraw', 'tau_byDeepTau2017v2p1VSe', \"\n",
      " \"'tau_byDeepTau2017v2p1VSmuraw', 'tau_byDeepTau2017v2p1VSmu', \"\n",
      " \"'pfCand_deltaEta', 'pfCand_phi', 'pfCand_eta', 'pfCand_jetDaughter', \"\n",
      " \"'pfCand_deltaPhi', 'pfCand_particleType', 'pfCand_mass', 'pfCand_deltaR', \"\n",
      " \"'pfCand_pt', 'pfCand_puppiWeightNoLep', 'pfCand_charge']\")\n",
      "\n",
      "\n",
      "name                 | typename                 | interpretation                \n",
      "---------------------+--------------------------+-------------------------------\n",
      "tau_byDeepTau2017... | float                    | AsDtype('>f4')\n",
      "tau_byDeepTau2017... | uint16_t                 | AsDtype('>u2')\n",
      "tau_byDeepTau2017... | float                    | AsDtype('>f4')\n",
      "tau_byDeepTau2017... | uint16_t                 | AsDtype('>u2')\n",
      "tau_byDeepTau2017... | float                    | AsDtype('>f4')\n",
      "tau_byDeepTau2017... | uint16_t                 | AsDtype('>u2')\n",
      "pfCand_deltaEta      | std::vector<float>       | AsJagged(AsDtype('>f4'), he...\n",
      "pfCand_phi           | std::vector<float>       | AsJagged(AsDtype('>f4'), he...\n",
      "pfCand_eta           | std::vector<float>       | AsJagged(AsDtype('>f4'), he...\n",
      "pfCand_jetDaughter   | std::vector<int32_t>     | AsJagged(AsDtype('>i4'), he...\n",
      "pfCand_deltaPhi      | std::vector<float>       | AsJagged(AsDtype('>f4'), he...\n",
      "pfCand_particleType  | std::vector<int32_t>     | AsJagged(AsDtype('>i4'), he...\n",
      "pfCand_mass          | std::vector<float>       | AsJagged(AsDtype('>f4'), he...\n",
      "pfCand_deltaR        | std::vector<float>       | AsJagged(AsDtype('>f4'), he...\n",
      "pfCand_pt            | std::vector<float>       | AsJagged(AsDtype('>f4'), he...\n",
      "pfCand_puppiWeigh... | std::vector<float>       | AsJagged(AsDtype('>f4'), he...\n",
      "pfCand_charge        | std::vector<int32_t>     | AsJagged(AsDtype('>i4'), he...\n",
      "None\n"
     ]
    }
   ],
   "source": [
    "%matplotlib inline\n",
    "\n",
    "import glob\n",
    "import uproot\n",
    "import pprint\n",
    "import numpy as np\n",
    "import awkward as ak\n",
    "import matplotlib.pyplot as plt\n",
    "plt.rcParams.update({'font.size': 24})\n",
    "plt.rcParams['text.usetex'] = True\n",
    "lw = 2\n",
    "xyLabelFontSize = 24\n",
    "xLabelPad = 6\n",
    "yLabelPad = 10\n",
    "\n",
    "pp = pprint.PrettyPrinter()\n",
    "folder = '/ceph/aissac/ntuple_for_graphs/prod_2018_v2_processed_v5_THESIS/trimmed_200000_and_cut_puppiWeightNoLep_greater_0_and_deltaR_smaller_0point5'\n",
    "files = glob.glob(f\"{folder}\" + \"/**/*.root\", recursive=True)\n",
    "files = [file for file in files if \"DYJetsToLL_M-50\" in file]\n",
    "\n",
    "files = [file + ':taus' for file in files if \"taus\" in file or \"jets\" in file]\n",
    "pp.pprint(files)\n",
    "\n",
    "\n",
    "#testfile = f'{folder}/DYJetsToLL_M-50_taus.root:taus'\n",
    "\n",
    "ttree = uproot.open(files[0])\n",
    "print(\"\")\n",
    "\n",
    "pp.pprint(f'keys: {ttree.keys()}')\n",
    "print(\"\")\n",
    "\n",
    "#pp.pprint(f'values: {ttree.values()}')\n",
    "print(\"\")\n",
    "\n",
    "pp.pprint(ttree.show())"
   ]
  },
  {
   "cell_type": "markdown",
   "metadata": {},
   "source": [
    "pfCand_deltaPhi = ttree['pfCand_deltaPhi'].array()\n",
    "nNodes = np.array([len(x) for x in pfCand_deltaPhi])\n",
    "nEdges = np.array([x*(x-1) for x in nNodes])\n",
    "pfCand_deltaPhi = ak.flatten(pfCand_deltaPhi, axis=None)\n",
    "pfCand_deltaEta = ak.flatten(ttree['pfCand_deltaEta'].array(), axis=None)\n",
    "pfCand_deltaR = ak.flatten(ttree['pfCand_deltaR'].array(), axis=None)\n",
    "pfCand_pt = ak.flatten(ttree['pfCand_pt'].array(), axis=None)\n",
    "pfCand_mass = ak.flatten(ttree['pfCand_mass'].array(), axis=None)\n",
    "\n",
    "print(f'graph count: {len(nNodes)}')\n",
    "\n",
    "print(f'Max node count: {max(nNodes)}')\n",
    "print(f'Min node count: {min(nNodes)}')\n",
    "\n",
    "print(f'Max edge count: {max(nEdges)}')\n",
    "print(f'Min edge count: {min(nEdges)}')"
   ]
  },
  {
   "cell_type": "code",
   "execution_count": 2,
   "metadata": {},
   "outputs": [],
   "source": [
    "def getBinsByPercentile(arrayDict, nBins, maxPercentile=99):\n",
    "    minVal = 999999999999\n",
    "    maxVal = -999999999999\n",
    "    for arr in arrayDict.values():\n",
    "        p = np.percentile(arr, [0, maxPercentile])\n",
    "        minVal = p[0] if p[0] < minVal else minVal\n",
    "        maxVal = p[1] if p[1] > maxVal else maxVal\n",
    "    binWidth = (maxVal - minVal) / nBins\n",
    "    \n",
    "    while(binWidth.is_integer() == False):\n",
    "        maxVal += 1\n",
    "        binWidth = (maxVal-minVal) / nBins\n",
    "    \n",
    "    return np.linspace(minVal, maxVal, nBins+1)\n",
    "\n",
    "def integrateHisto(data, bins):\n",
    "    hist, bin_edges = np.histogram(data[\"Genuine taus\"], bins=bins, density=True)\n",
    "    print(f'genuine taus: {np.sum(hist * np.diff(bin_edges))}')\n",
    "\n",
    "    hist, bin_edges = np.histogram(data[\"Jets\"], bins=bins, density=True)\n",
    "    print(f'jets: {np.sum(hist * np.diff(bin_edges))}')"
   ]
  },
  {
   "cell_type": "code",
   "execution_count": 3,
   "metadata": {},
   "outputs": [],
   "source": [
    "nBins = 25\n",
    "baseFileName = \"DYJetsToLL_M-50_puppiAndDeltaRCut\"\n",
    "tree = { \"Genuine taus\" : uproot.open(files[0]), \"Jets\" : uproot.open(files[0])}\n",
    "genuine = uproot.open(files[0])\n",
    "jets = uproot.open(files[1])\n",
    "\n",
    "pfCand_deltaPhi = {\n",
    "    \"Genuine taus\" : genuine[\"pfCand_deltaPhi\"].array(),\n",
    "    \"Jets\" : jets[\"pfCand_deltaPhi\"].array()\n",
    "}\n",
    "\n",
    "nNodes = {\n",
    "    \"Genuine taus\" : np.array([len(x) for x in pfCand_deltaPhi[\"Genuine taus\"]]),\n",
    "    \"Jets\" : np.array([len(x) for x in pfCand_deltaPhi[\"Jets\"]])\n",
    "}\n",
    "\n",
    "nEdges = {\n",
    "    \"Genuine taus\" : np.array([x*(x-1) for x in nNodes[\"Genuine taus\"]]),\n",
    "    \"Jets\" : np.array([x*(x-1) for x in nNodes[\"Jets\"]])\n",
    "}\n",
    "\n",
    "pfCand_deltaPhi = {\n",
    "    \"Genuine taus\" : ak.to_numpy(ak.flatten(genuine[\"pfCand_deltaPhi\"].array(), axis=None)),\n",
    "    \"Jets\" : ak.to_numpy(ak.flatten(jets[\"pfCand_deltaPhi\"].array(), axis=None))\n",
    "}\n",
    "\n",
    "pfCand_deltaEta = {\n",
    "    \"Genuine taus\" : ak.to_numpy(ak.flatten(genuine[\"pfCand_deltaEta\"].array(), axis=None)),\n",
    "    \"Jets\" : ak.to_numpy(ak.flatten(jets[\"pfCand_deltaEta\"].array(), axis=None))\n",
    "}\n",
    "\n",
    "pfCand_deltaR = {\n",
    "    \"Genuine taus\" : ak.to_numpy(ak.flatten(genuine[\"pfCand_deltaR\"].array(), axis=None)),\n",
    "    \"Jets\" : ak.to_numpy(ak.flatten(jets[\"pfCand_deltaR\"].array(), axis=None))\n",
    "}\n",
    "\n",
    "pfCand_pt = {\n",
    "    \"Genuine taus\" : ak.to_numpy(ak.flatten(genuine[\"pfCand_pt\"].array(), axis=None)),\n",
    "    \"Jets\" : ak.to_numpy(ak.flatten(jets[\"pfCand_pt\"].array(), axis=None))\n",
    "}\n",
    "\n",
    "pfCand_eta = {\n",
    "    \"Genuine taus\" : ak.to_numpy(ak.flatten(genuine[\"pfCand_eta\"].array(), axis=None)),\n",
    "    \"Jets\" : ak.to_numpy(ak.flatten(jets[\"pfCand_eta\"].array(), axis=None))\n",
    "}\n",
    "\n",
    "pfCand_phi = {\n",
    "    \"Genuine taus\" : ak.to_numpy(ak.flatten(genuine[\"pfCand_phi\"].array(), axis=None)),\n",
    "    \"Jets\" : ak.to_numpy(ak.flatten(jets[\"pfCand_phi\"].array(), axis=None))\n",
    "}\n",
    "\n",
    "pfCand_mass = {\n",
    "    \"Genuine taus\" : ak.to_numpy(ak.flatten(genuine[\"pfCand_mass\"].array(), axis=None)),\n",
    "    \"Jets\" : ak.to_numpy(ak.flatten(jets[\"pfCand_mass\"].array(), axis=None))\n",
    "}\n",
    "\n",
    "pfCand_charge = {\n",
    "    \"Genuine taus\" : ak.to_numpy(ak.flatten(genuine[\"pfCand_charge\"].array(), axis=None)),\n",
    "    \"Jets\" : ak.to_numpy(ak.flatten(jets[\"pfCand_charge\"].array(), axis=None))\n",
    "}\n",
    "\n",
    "pfCand_particleType = {\n",
    "    \"Genuine taus\" : ak.to_numpy(ak.flatten(genuine[\"pfCand_particleType\"].array(), axis=None)),\n",
    "    \"Jets\" : ak.to_numpy(ak.flatten(jets[\"pfCand_particleType\"].array(), axis=None))\n",
    "}"
   ]
  },
  {
   "cell_type": "code",
   "execution_count": null,
   "metadata": {},
   "outputs": [],
   "source": [
    "bins = getBinsByPercentile(nNodes, nBins)\n",
    "\n",
    "fig, ax = plt.subplots(figsize=(9,7))\n",
    "ax.tick_params(labelbottom=True, labeltop=False, labelleft=True, labelright=False,\n",
    "               bottom=True, top=True, left=True, right=True, length=7, pad=7, which='major', direction='in')\n",
    "\n",
    "ax.hist(nNodes[\"Genuine taus\"], bins=bins, label=\"Genuine taus\", histtype=\"step\", linewidth=lw, density=True)\n",
    "ax.hist(nNodes[\"Jets\"], bins=bins, label=\"Jets\", histtype=\"step\", linewidth=lw, density=True)\n",
    "ax.set_xlabel(r\"$\\displaystyle N_{\\mathrm{PFCandidates}}$\", loc='right', labelpad=xLabelPad, fontsize=xyLabelFontSize)\n",
    "ax.set_ylabel(r\"$\\displaystyle\\frac{\\mathrm{d}N}{\\mathrm{d}N_{\\mathrm{PFCandidates}}}$\", loc='top', labelpad=yLabelPad, fontsize=xyLabelFontSize)\n",
    "ax.legend()\n",
    "plt.tight_layout()\n",
    "plt.savefig(f'{baseFileName}_NodeCount.pdf')\n",
    "plt.show()"
   ]
  },
  {
   "cell_type": "code",
   "execution_count": null,
   "metadata": {},
   "outputs": [],
   "source": [
    "bins = getBinsByPercentile(nNodes, nBins)\n",
    "\n",
    "integrateHisto(nNodes, bins)"
   ]
  },
  {
   "cell_type": "code",
   "execution_count": null,
   "metadata": {},
   "outputs": [],
   "source": [
    "bins = np.linspace(0, 1000, 51)\n",
    "print(bins)\n",
    "\n",
    "fig, ax = plt.subplots(figsize=(9,7))\n",
    "ax.tick_params(labelbottom=True, labeltop=False, labelleft=True, labelright=False,\n",
    "               bottom=True, top=True, left=True, right=True, length=7, pad=7, which='major', direction='in')\n",
    "\n",
    "ax.hist(nEdges[\"Genuine taus\"], bins=bins, range=(0,1200),label=\"Genuine taus\", histtype=\"step\", linewidth=lw, density=True)\n",
    "ax.hist(nEdges[\"Jets\"], bins=bins, range=(0,1200), label=\"Jets\", histtype=\"step\", linewidth=lw, density=True)\n",
    "ax.set_xlabel(r\"$\\displaystyle M$\", loc='right', labelpad=xLabelPad, fontsize=xyLabelFontSize)\n",
    "ax.set_ylabel(r\"$\\displaystyle\\frac{\\mathrm{d}N}{\\mathrm{d}M}$\", loc='top', labelpad=yLabelPad, fontsize=xyLabelFontSize)\n",
    "ax.legend()\n",
    "plt.tight_layout()\n",
    "plt.savefig(f'{baseFileName}_EdgeCount.pdf')\n",
    "plt.show()"
   ]
  },
  {
   "cell_type": "code",
   "execution_count": null,
   "metadata": {},
   "outputs": [],
   "source": [
    "\"\"\"\n",
    "BINNING EFFECT due to fully conntected graphs:\n",
    "there are only the computed combinations of edge counts possible for fully connected graphs\n",
    "-> histogram binning will have empty bins for example using this binning:\n",
    "bins = np.linspace(0, 1000, 51)\n",
    "[   0.   20.   40.   60.   80.  100.  120.  140.  160.  180.  200.  220.\n",
    "  240.  260.  280.  300.  320.  340.  360.  380.  400.  420.  440.  460.\n",
    "  480.  500.  520.  540.  560.  580.  600.  620.  640.  660.  680.  700.\n",
    "  720.  740.  760.  780.  800.  820.  840.  860.  880.  900.  920.  940.\n",
    "  960.  980. 1000.]\n",
    "\n",
    "since 13*12=156 and 14*13=182 -> there are no entries in the bin [160,180]! -> gap.\n",
    "\"\"\"\n",
    "\n",
    "possibleEdges = []\n",
    "for i in range(2, 51):\n",
    "    print(f'{i}*{i-1}={i*(i-1)}')\n",
    "    possibleEdges.append(i*(i-1))\n",
    "\n",
    "bins = np.linspace(0, 1000, 51)\n",
    "    \n",
    "fig, ax = plt.subplots(figsize=(9,7))\n",
    "ax.tick_params(labelbottom=True, labeltop=False, labelleft=True, labelright=False,\n",
    "               bottom=True, top=True, left=True, right=True, length=7, pad=7, which='major', direction='in')\n",
    "\n",
    "ax.hist(possibleEdges, bins=bins, range=(0,1200),label=\"Edges\", histtype=\"step\", linewidth=lw, density=True)\n",
    "ax.set_xlabel(r\"$\\displaystyle N_{\\mathrm{Edges}}$\", loc='right', labelpad=xLabelPad, fontsize=xyLabelFontSize)\n",
    "ax.set_ylabel(r\"$\\displaystyle\\frac{\\mathrm{d}N}{\\mathrm{d}N_{\\mathrm{Edges}}}$\", loc='top', labelpad=yLabelPad, fontsize=xyLabelFontSize)\n",
    "ax.legend()\n",
    "plt.tight_layout()\n",
    "plt.show()"
   ]
  },
  {
   "cell_type": "code",
   "execution_count": null,
   "metadata": {},
   "outputs": [],
   "source": [
    "bins = np.linspace(0, 1000, 51)\n",
    "print(bins)\n",
    "\n",
    "integrateHisto(nEdges, bins)"
   ]
  },
  {
   "cell_type": "code",
   "execution_count": null,
   "metadata": {},
   "outputs": [],
   "source": [
    "fig, ax = plt.subplots(figsize=(9,7))\n",
    "ax.tick_params(labelbottom=True, labeltop=False, labelleft=True, labelright=False,\n",
    "               bottom=True, top=True, left=True, right=True, length=7, pad=7, which='major', direction='in')\n",
    "\n",
    "ax.hist(pfCand_deltaPhi[\"Genuine taus\"], bins=nBins, label=\"Genuine taus\", histtype=\"step\", linewidth=lw, density=True)\n",
    "ax.hist(pfCand_deltaPhi[\"Jets\"], bins=nBins, label=\"Jets\", histtype=\"step\", linewidth=lw, density=True)\n",
    "ax.set_xlabel(r\"$\\displaystyle\\Delta \\phi\\,(\\mathrm{rad})$\", loc='right', labelpad=xLabelPad, fontsize=xyLabelFontSize)\n",
    "ax.set_ylabel(r\"$\\displaystyle\\frac{\\mathrm{d}N}{\\mathrm{d}\\Delta\\phi}\\,(\\mathrm{rad}^{-1})$\", loc='top', labelpad=yLabelPad, fontsize=xyLabelFontSize)\n",
    "ax.legend()\n",
    "plt.tight_layout()\n",
    "plt.savefig(f'{baseFileName}_pfCand_deltaPhi.pdf')\n",
    "plt.show()"
   ]
  },
  {
   "cell_type": "code",
   "execution_count": null,
   "metadata": {},
   "outputs": [],
   "source": [
    "integrateHisto(pfCand_deltaPhi, nBins)"
   ]
  },
  {
   "cell_type": "code",
   "execution_count": null,
   "metadata": {},
   "outputs": [],
   "source": [
    "fig, ax = plt.subplots(figsize=(9,7))\n",
    "ax.tick_params(labelbottom=True, labeltop=False, labelleft=True, labelright=False,\n",
    "               bottom=True, top=True, left=True, right=True, length=7, pad=7, which='major', direction='in')\n",
    "#ax.tick_params(labelbottom=True, labeltop=False, labelleft=True, labelright=False,\n",
    "#               bottom=True, top=True, left=True, right=True, length=3, which='minor')\n",
    "#ax.minorticks_on()\n",
    "\n",
    "ax.hist(pfCand_deltaEta[\"Genuine taus\"], bins=nBins, label=\"Genuine taus\", histtype=\"step\", linewidth=lw, density=True)\n",
    "ax.hist(pfCand_deltaEta[\"Jets\"], bins=nBins, label=\"Jets\", histtype=\"step\", linewidth=lw, density=True)\n",
    "ax.set_xlabel(r\"$\\displaystyle\\Delta \\eta$\", loc='right', labelpad=xLabelPad, fontsize=xyLabelFontSize)\n",
    "ax.set_ylabel(r\"$\\displaystyle\\frac{\\mathrm{d}N}{\\mathrm{d}\\Delta \\eta}$\", loc='top', labelpad=yLabelPad, fontsize=xyLabelFontSize)\n",
    "ax.legend()\n",
    "plt.tight_layout()\n",
    "plt.savefig(f'{baseFileName}_pfCand_deltaEta.pdf')\n",
    "plt.show()"
   ]
  },
  {
   "cell_type": "code",
   "execution_count": null,
   "metadata": {},
   "outputs": [],
   "source": [
    "integrateHisto(pfCand_deltaEta, nBins)"
   ]
  },
  {
   "cell_type": "code",
   "execution_count": null,
   "metadata": {},
   "outputs": [],
   "source": [
    "fig, ax = plt.subplots(figsize=(9,7))\n",
    "ax.tick_params(labelbottom=True, labeltop=False, labelleft=True, labelright=False,\n",
    "               bottom=True, top=True, left=True, right=True, length=7, pad=7, which='major', direction='in')\n",
    "\n",
    "ax.hist(pfCand_deltaR[\"Genuine taus\"], bins=nBins, label=\"Genuine taus\", histtype=\"step\", linewidth=lw, density=True)\n",
    "ax.hist(pfCand_deltaR[\"Jets\"], bins=nBins, label=\"Jets\", histtype=\"step\", linewidth=lw, density=True)\n",
    "ax.set_xlabel(r\"$\\displaystyle\\Delta R$\", loc='right', labelpad=xLabelPad, fontsize=xyLabelFontSize)\n",
    "ax.set_ylabel(r\"$\\displaystyle\\frac{\\mathrm{d}N}{\\mathrm{d}\\Delta R}$\", loc='top', labelpad=yLabelPad, fontsize=xyLabelFontSize)\n",
    "ax.legend()\n",
    "plt.tight_layout()\n",
    "plt.savefig(f'{baseFileName}_pfCand_deltaR.pdf')\n",
    "plt.show()"
   ]
  },
  {
   "cell_type": "code",
   "execution_count": null,
   "metadata": {},
   "outputs": [],
   "source": [
    "integrateHisto(pfCand_deltaR, nBins)"
   ]
  },
  {
   "cell_type": "code",
   "execution_count": null,
   "metadata": {},
   "outputs": [],
   "source": [
    "fig, ax = plt.subplots(figsize=(9,7))\n",
    "ax.tick_params(labelbottom=True, labeltop=False, labelleft=True, labelright=False,\n",
    "               bottom=True, top=True, left=True, right=True, length=7, pad=7, which='major', direction='in')\n",
    "\n",
    "ax.hist(pfCand_pt[\"Genuine taus\"], bins=nBins, range=(0, 900), log=True, label=\"Genuine taus\", histtype=\"step\", linewidth=lw, density=True)\n",
    "ax.hist(pfCand_pt[\"Jets\"], bins=nBins, range=(0, 900), log=True, label=\"Jets\", histtype=\"step\", linewidth=lw, density=True)\n",
    "ax.set_xlabel(r\"$p_{\\mathrm{T}}\\,(\\mathrm{GeV})$\", loc='right', labelpad=xLabelPad, fontsize=xyLabelFontSize)\n",
    "ax.set_ylabel(r\"$\\displaystyle\\frac{\\mathrm{d}N}{\\mathrm{d}p_{\\mathrm{T}}}\\,(\\mathrm{GeV}^{-1})$\", loc='top', labelpad=yLabelPad, fontsize=xyLabelFontSize)\n",
    "ax.legend()\n",
    "plt.tight_layout()\n",
    "plt.savefig(f'{baseFileName}_pfCand_pt.pdf')\n",
    "plt.show()"
   ]
  },
  {
   "cell_type": "code",
   "execution_count": null,
   "metadata": {},
   "outputs": [],
   "source": [
    "integrateHisto(pfCand_pt, nBins)"
   ]
  },
  {
   "cell_type": "code",
   "execution_count": null,
   "metadata": {},
   "outputs": [],
   "source": [
    "fig, ax = plt.subplots(figsize=(9,7))\n",
    "ax.tick_params(labelbottom=True, labeltop=False, labelleft=True, labelright=False,\n",
    "               bottom=True, top=True, left=True, right=True, length=7, pad=7, which='major', direction='in')\n",
    "\n",
    "ax.hist(pfCand_eta[\"Genuine taus\"], bins=nBins, label=\"Genuine taus\", histtype=\"step\", linewidth=lw, density=True)\n",
    "ax.hist(pfCand_eta[\"Jets\"], bins=nBins, label=\"Jets\", histtype=\"step\", linewidth=lw, density=True)\n",
    "ax.set_xlabel(r\"$\\eta$\", loc='right', labelpad=xLabelPad, fontsize=xyLabelFontSize)\n",
    "ax.set_ylabel(r\"$\\displaystyle\\frac{\\mathrm{d}N}{\\mathrm{d}\\eta}$\", loc='top', labelpad=yLabelPad, fontsize=xyLabelFontSize)\n",
    "ax.legend()\n",
    "plt.tight_layout()\n",
    "plt.savefig(f'{baseFileName}_pfCand_eta.pdf')\n",
    "plt.show()"
   ]
  },
  {
   "cell_type": "code",
   "execution_count": null,
   "metadata": {},
   "outputs": [],
   "source": [
    "integrateHisto(pfCand_eta, nBins)"
   ]
  },
  {
   "cell_type": "code",
   "execution_count": null,
   "metadata": {},
   "outputs": [],
   "source": [
    "fig, ax = plt.subplots(figsize=(9,7))\n",
    "ax.tick_params(labelbottom=True, labeltop=False, labelleft=True, labelright=False,\n",
    "               bottom=True, top=True, left=True, right=True, length=7, pad=7, which='major', direction='in')\n",
    "\n",
    "ax.hist(pfCand_phi[\"Genuine taus\"], bins=nBins, label=\"Genuine taus\", histtype=\"step\", linewidth=lw, density=True)\n",
    "ax.hist(pfCand_phi[\"Jets\"], bins=nBins, label=\"Jets\", histtype=\"step\", linewidth=lw, density=True)\n",
    "ax.set_xlabel(r\"$\\phi\\,(\\mathrm{rad})$\", loc='right', labelpad=xLabelPad, fontsize=xyLabelFontSize)\n",
    "ax.set_ylabel(r\"$\\displaystyle\\frac{\\mathrm{d}N}{\\mathrm{d}\\phi}\\,(\\mathrm{rad}^{-1})$\", loc='top', labelpad=yLabelPad, fontsize=xyLabelFontSize)\n",
    "ax.legend(loc=\"lower right\")\n",
    "plt.tight_layout()\n",
    "plt.savefig(f'{baseFileName}_pfCand_phi.pdf')\n",
    "plt.show()"
   ]
  },
  {
   "cell_type": "code",
   "execution_count": null,
   "metadata": {},
   "outputs": [],
   "source": [
    "integrateHisto(pfCand_phi, nBins)"
   ]
  },
  {
   "cell_type": "code",
   "execution_count": null,
   "metadata": {},
   "outputs": [],
   "source": [
    "fig, ax = plt.subplots(figsize=(9,7))\n",
    "ax.tick_params(labelbottom=True, labeltop=False, labelleft=True, labelright=False,\n",
    "               bottom=True, top=True, left=True, right=True, length=7, pad=7, which='major', direction='in')\n",
    "\n",
    "ax.hist(pfCand_mass[\"Genuine taus\"], bins=nBins, range=(-0.4, 0.5), log=True, label=\"Genuine taus\", histtype=\"step\", linewidth=lw, density=True)\n",
    "ax.hist(pfCand_mass[\"Jets\"], bins=nBins, range=(-0.4, 0.5), log=True, label=\"Jets\", histtype=\"step\", linewidth=lw, density=True)\n",
    "ax.set_xlabel(r\"$m$\", loc='right', labelpad=xLabelPad, fontsize=xyLabelFontSize)\n",
    "ax.set_ylabel(r\"$\\displaystyle\\frac{\\mathrm{d}N}{\\mathrm{d}m}$\", loc='top', labelpad=yLabelPad, fontsize=xyLabelFontSize)\n",
    "ax.legend()\n",
    "plt.tight_layout()\n",
    "plt.savefig(f'{baseFileName}_pfCand_mass.pdf')\n",
    "plt.show()"
   ]
  },
  {
   "cell_type": "code",
   "execution_count": null,
   "metadata": {},
   "outputs": [],
   "source": [
    "integrateHisto(pfCand_mass, nBins)"
   ]
  },
  {
   "cell_type": "code",
   "execution_count": 11,
   "metadata": {},
   "outputs": [
    {
     "data": {
      "image/png": "[encoded data removed]",
      "text/plain": [
       "<Figure size 648x504 with 1 Axes>"
      ]
     },
     "metadata": {
      "needs_background": "light"
     },
     "output_type": "display_data"
    }
   ],
   "source": [
    "fig, ax = plt.subplots(figsize=(9,7))\n",
    "ax.tick_params(labelbottom=True, labeltop=False, labelleft=True, labelright=False,\n",
    "               bottom=True, top=True, left=True, right=True, length=7, pad=7, which='major', direction='in')\n",
    "bins = np.arange(-2,2 + 1.5) - 0.5\n",
    "ax.hist(pfCand_charge[\"Genuine taus\"], bins=bins, label=\"Genuine taus\", histtype=\"step\", linewidth=lw, density=True)\n",
    "ax.hist(pfCand_charge[\"Jets\"], bins=nBins, label=\"Jets\", histtype=\"step\", linewidth=lw, density=True)\n",
    "ax.set_xlabel(r\"$q$\", loc='right', labelpad=xLabelPad, fontsize=xyLabelFontSize)\n",
    "ax.set_ylabel(r\"$\\displaystyle\\frac{\\mathrm{d}N}{\\mathrm{d}q}$\", loc='top', labelpad=yLabelPad, fontsize=xyLabelFontSize)\n",
    "ax.legend()\n",
    "plt.tight_layout()\n",
    "plt.savefig(f'{baseFileName}_pfCand_charge.pdf')\n",
    "plt.show()"
   ]
  },
  {
   "cell_type": "code",
   "execution_count": null,
   "metadata": {},
   "outputs": [],
   "source": [
    "integrateHisto(pfCand_charge, nBins)"
   ]
  },
  {
   "cell_type": "code",
   "execution_count": 10,
   "metadata": {},
   "outputs": [
    {
     "data": {
      "image/png": "[encoded data removed]",
      "text/plain": [
       "<Figure size 648x504 with 1 Axes>"
      ]
     },
     "metadata": {
      "needs_background": "light"
     },
     "output_type": "display_data"
    }
   ],
   "source": [
    "fig, ax = plt.subplots(figsize=(9,7))\n",
    "ax.tick_params(labelbottom=True, labeltop=False, labelleft=True, labelright=False,\n",
    "               bottom=True, top=True, left=True, right=True, length=7, pad=7, which='major', direction='in')\n",
    "bins = np.arange(1,5 + 1.5) - 0.5\n",
    "ax.hist(pfCand_particleType[\"Genuine taus\"], bins=bins, label=\"Genuine taus\", histtype=\"step\", linewidth=lw, density=True)\n",
    "ax.hist(pfCand_particleType[\"Jets\"], bins=bins, label=\"Jets\", histtype=\"step\", linewidth=lw, density=True)\n",
    "ax.set_xlabel(r\"$T$\", loc='right', labelpad=xLabelPad, fontsize=xyLabelFontSize)\n",
    "ax.set_ylabel(r\"$\\displaystyle\\frac{\\mathrm{d}N}{\\mathrm{d}T}$\", loc='top', labelpad=yLabelPad, fontsize=xyLabelFontSize)\n",
    "ax.legend()\n",
    "plt.tight_layout()\n",
    "plt.savefig(f'{baseFileName}_pfCand_particleType.pdf')\n",
    "plt.show()"
   ]
  },
  {
   "cell_type": "code",
   "execution_count": null,
   "metadata": {},
   "outputs": [],
   "source": [
    "integrateHisto(pfCand_particleType, nBins)"
   ]
  },
  {
   "cell_type": "code",
   "execution_count": null,
   "metadata": {},
   "outputs": [],
   "source": [
    "fig, ax = plt.subplots(figsize=(9,7))\n",
    "ax.tick_params(labelbottom=True, labeltop=False, labelleft=True, labelright=False,\n",
    "               bottom=True, top=True, left=True, right=True, length=7, pad=7, which='major', direction='in')\n",
    "\n",
    "counts, xedges, yedges, im = ax.hist2d(pfCand_eta[\"Genuine taus\"], pfCand_phi[\"Genuine taus\"], bins=[nBins, nBins])\n",
    "ax.set_xlabel(r\"$\\displaystyle\\eta$\", loc='right', labelpad=xLabelPad, fontsize=xyLabelFontSize)\n",
    "ax.set_ylabel(r\"$\\displaystyle\\phi$\", loc='top', labelpad=yLabelPad, fontsize=xyLabelFontSize)\n",
    "fig.colorbar(im, ax=ax)\n",
    "plt.tight_layout()\n",
    "plt.savefig(f'{baseFileName}_pfCand_eta_phi_genuinetaus_2Dhist.png')\n",
    "plt.show()"
   ]
  },
  {
   "cell_type": "code",
   "execution_count": null,
   "metadata": {},
   "outputs": [],
   "source": [
    "fig, ax = plt.subplots(figsize=(9,7))\n",
    "ax.tick_params(labelbottom=True, labeltop=False, labelleft=True, labelright=False,\n",
    "               bottom=True, top=True, left=True, right=True, length=7, pad=7, which='major', direction='in')\n",
    "\n",
    "counts, xedges, yedges, im = ax.hist2d(pfCand_eta[\"Jets\"], pfCand_phi[\"Jets\"], bins=[nBins, nBins])\n",
    "ax.set_xlabel(r\"$\\displaystyle\\eta$\", loc='right', labelpad=xLabelPad, fontsize=xyLabelFontSize)\n",
    "ax.set_ylabel(r\"$\\displaystyle\\phi$\", loc='top', labelpad=yLabelPad, fontsize=xyLabelFontSize)\n",
    "fig.colorbar(im, ax=ax)\n",
    "plt.tight_layout()\n",
    "plt.savefig(f'{baseFileName}_pfCand_eta_phi_jets_2Dhist.png')\n",
    "plt.show()"
   ]
  },
  {
   "cell_type": "code",
   "execution_count": null,
   "metadata": {},
   "outputs": [],
   "source": [
    "fig, ax = plt.subplots(figsize=(9,7))\n",
    "ax.tick_params(labelbottom=True, labeltop=False, labelleft=True, labelright=False,\n",
    "               bottom=True, top=True, left=True, right=True, length=7, pad=7, which='major', direction='in')\n",
    "\n",
    "counts, xedges, yedges, im = ax.hist2d(pfCand_deltaEta[\"Genuine taus\"], pfCand_deltaPhi[\"Genuine taus\"], bins=[nBins, nBins])\n",
    "ax.set_xlabel(r\"$\\displaystyle\\Delta\\eta$\", loc='right', labelpad=xLabelPad, fontsize=xyLabelFontSize)\n",
    "ax.set_ylabel(r\"$\\displaystyle\\Delta\\phi$\", loc='top', labelpad=yLabelPad, fontsize=xyLabelFontSize)\n",
    "fig.colorbar(im, ax=ax)\n",
    "plt.tight_layout()\n",
    "plt.savefig(f'{baseFileName}_pfCand_deltaEta_deltaPhi_genuinetaus_2Dhist.png')\n",
    "plt.show()"
   ]
  },
  {
   "cell_type": "code",
   "execution_count": null,
   "metadata": {},
   "outputs": [],
   "source": [
    "fig, ax = plt.subplots(figsize=(9,7))\n",
    "ax.tick_params(labelbottom=True, labeltop=False, labelleft=True, labelright=False,\n",
    "               bottom=True, top=True, left=True, right=True, length=7, pad=7, which='major', direction='in')\n",
    "\n",
    "counts, xedges, yedges, im = ax.hist2d(pfCand_deltaEta[\"Jets\"], pfCand_deltaPhi[\"Jets\"], bins=[nBins, nBins])\n",
    "ax.set_xlabel(r\"$\\displaystyle\\Delta\\eta$\", loc='right', labelpad=xLabelPad, fontsize=xyLabelFontSize)\n",
    "ax.set_ylabel(r\"$\\displaystyle\\Delta\\phi$\", loc='top', labelpad=yLabelPad, fontsize=xyLabelFontSize)\n",
    "fig.colorbar(im, ax=ax)\n",
    "plt.tight_layout()\n",
    "plt.savefig(f'{baseFileName}_pfCand_deltaEta_deltaPhi_jets_2Dhist.png')\n",
    "plt.show()"
   ]
  },
  {
   "cell_type": "code",
   "execution_count": null,
   "metadata": {},
   "outputs": [],
   "source": []
  }
 ],
 "metadata": {
  "interpreter": {
   "hash": "18e711687f31016629c64c84d23d27d9292aefc640ef90f9639fb07f22fea1b3"
  },
  "kernelspec": {
   "display_name": "Python 3",
   "language": "python",
   "name": "python3"
  },
  "language_info": {
   "codemirror_mode": {
    "name": "ipython",
    "version": 3
   },
   "file_extension": ".py",
   "mimetype": "text/x-python",
   "name": "python",
   "nbconvert_exporter": "python",
   "pygments_lexer": "ipython3",
   "version": "3.6.8"
  }
 },
 "nbformat": 4,
 "nbformat_minor": 2
}
