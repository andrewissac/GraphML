{
 "cells": [
  {
   "cell_type": "code",
   "execution_count": 1,
   "metadata": {},
   "outputs": [
    {
     "name": "stderr",
     "output_type": "stream",
     "text": [
      "Using backend: pytorch\n"
     ]
    }
   ],
   "source": [
    "%matplotlib inline\n",
    "import dgl\n",
    "import glob\n",
    "import torch\n",
    "import pprint\n",
    "import numpy as np\n",
    "import awkward as ak\n",
    "import networkx as nx\n",
    "import matplotlib.pyplot as plt\n",
    "from os import path\n",
    "from pathlib import Path\n",
    "from copy import deepcopy\n",
    "from dgl.data import DGLDataset\n",
    "from TauGraphDataset import TauGraphDataset\n",
    "from TauGraphDatasetInfo import TauGraphDatasetInfo\n",
    "\n",
    "plt.rcParams.update({'font.size': 20})\n",
    "plt.rcParams['text.usetex'] = True\n",
    "lw = 2\n",
    "xyLabelFontSize = 20\n",
    "xLabelPad = 10\n",
    "yLabelPad = 15\n",
    "pp = pprint.PrettyPrinter()"
   ]
  },
  {
   "cell_type": "code",
   "execution_count": 2,
   "metadata": {},
   "outputs": [],
   "source": [
    "basefolder = '/ceph/aissac/ntuple_for_graphs/prod_2018_v2_processed_v5_THESIS/trimmed_200000_and_cut_puppiWeightNoLep_greater_0_and_deltaR_smaller_0point5'\n",
    "name = 'Graphs_DYJetsToLL_M-50_genuineTaus_and_jets'\n",
    "\n",
    "graphClassMap = { 'taus': 0, 'jets': 1, 'electron': 2, 'muons': 3, 'invalid': 4}\n",
    "rootfiles = { \n",
    "    graphClassMap['taus'] : [path.join(basefolder, 'DYJetsToLL_M-50_taus.root')],\n",
    "    graphClassMap['jets'] : [path.join(basefolder, 'DYJetsToLL_M-50_jets.root')]\n",
    "}\n",
    "nodeFeatMap = {'pt': 0, 'eta': 1, 'phi': 2, 'mass': 3, 'charge': 4, 'particleType': 5, 'summand': 6}\n",
    "edgeFeatMap = {'deltaEta': 0, 'deltaPhi': 1, 'deltaR': 2}\n",
    "graphFeatMap = {'nodeCount': 0, 'tau_byDeepTau2017v2p1VSjet': 1} #, 'tau_byDeepTau2017v2p1VSe': 2, 'tau_byDeepTau2017v2p1VSmu': 3, 'tau_byDeepTau2017v2p1VSjetraw': 4, 'tau_byDeepTau2017v2p1VSeraw': 5, 'tau_byDeepTau2017v2p1VSmuraw': 6}\n",
    "splitPercentages = {'train': 0.7, 'valid': 0.2, 'test': 0.1}\n",
    "graphsPerClass = 100000\n",
    "\n",
    "tauGraphDatasetInfo = TauGraphDatasetInfo(\n",
    "    name=name, graphClassMap=graphClassMap, rootfiles=rootfiles,\n",
    "    nodeFeatMap=nodeFeatMap, edgeFeatMap=edgeFeatMap, graphFeatMap=graphFeatMap,\n",
    "    splitPercentages=splitPercentages, graphsPerClass=graphsPerClass\n",
    ")\n",
    "\n",
    "outputFolder = path.join(basefolder, name)\n",
    "tauGraphDatasetInfo.SaveToJsonfile(outputFolder, f'{name}.json')"
   ]
  },
  {
   "cell_type": "code",
   "execution_count": 3,
   "metadata": {},
   "outputs": [
    {
     "name": "stderr",
     "output_type": "stream",
     "text": [
      "(1/2) Generating graphs from DYJetsToLL_M-50_taus.root:  51%|█████     | 101504/200000 [04:16<04:09, 395.09it/s]\n",
      "(2/2) Generating graphs from DYJetsToLL_M-50_jets.root:  50%|█████     | 100086/200000 [08:20<08:19, 199.90it/s]\n"
     ]
    },
    {
     "name": "stdout",
     "output_type": "stream",
     "text": [
      "Num Graph classes: 2\n",
      "Graph classes: [0, 1]\n",
      "Number of graphs: 200000\n",
      "Number of all nodes in all graphs: 2389000\n",
      "Number of all edges in all graphs: 37520294\n",
      "Dim node features: 7\n",
      "Node feature keys: ['pt', 'eta', 'phi', 'mass', 'charge', 'particleType', 'summand']\n",
      "Dim edge features: 3\n",
      "Edge feature keys: ['deltaEta', 'deltaPhi', 'deltaR']\n",
      "Dim graph features: 2\n",
      "Graph feature keys: ['nodeCount', 'tau_byDeepTau2017v2p1VSjet']\n",
      "Max node count: 81\n",
      "Min node count: 2\n",
      "Done saving data into cached files.\n"
     ]
    }
   ],
   "source": [
    "dataset = TauGraphDataset(name=name, info=tauGraphDatasetInfo, shuffleDataset=True, save_dir=outputFolder)"
   ]
  },
  {
   "cell_type": "code",
   "execution_count": null,
   "metadata": {},
   "outputs": [],
   "source": []
  }
 ],
 "metadata": {
  "interpreter": {
   "hash": "18e711687f31016629c64c84d23d27d9292aefc640ef90f9639fb07f22fea1b3"
  },
  "kernelspec": {
   "display_name": "Python 3",
   "language": "python",
   "name": "python3"
  },
  "language_info": {
   "codemirror_mode": {
    "name": "ipython",
    "version": 3
   },
   "file_extension": ".py",
   "mimetype": "text/x-python",
   "name": "python",
   "nbconvert_exporter": "python",
   "pygments_lexer": "ipython3",
   "version": "3.6.8"
  }
 },
 "nbformat": 4,
 "nbformat_minor": 2
}
