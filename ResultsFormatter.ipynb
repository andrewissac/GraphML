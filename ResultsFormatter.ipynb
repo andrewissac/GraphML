{
 "cells": [
  {
   "cell_type": "code",
   "execution_count": 1,
   "metadata": {},
   "outputs": [],
   "source": [
    "%matplotlib inline\n",
    "\n",
    "import glob\n",
    "import uproot\n",
    "import pprint\n",
    "import numpy as np\n",
    "import awkward as ak\n",
    "import matplotlib.pyplot as plt\n",
    "from os import path\n",
    "from tqdm import tqdm\n",
    "from trainresults import TrainResults\n",
    "plt.rcParams.update({'font.size': 20})\n",
    "plt.rcParams['text.usetex'] = True\n",
    "lw = 2\n",
    "xyLabelFontSize = 20\n",
    "xLabelPad = 10\n",
    "yLabelPad = 15\n",
    "pp = pprint.PrettyPrinter()\n"
   ]
  },
  {
   "cell_type": "code",
   "execution_count": 2,
   "metadata": {},
   "outputs": [],
   "source": [
    "def getParentFolderName(absoluteFileName):\n",
    "    dirname = path.dirname(absoluteFileName)\n",
    "    return path.basename(dirname)"
   ]
  },
  {
   "cell_type": "code",
   "execution_count": 3,
   "metadata": {},
   "outputs": [],
   "source": [
    "import re\n",
    "def getNumbersFromString(myString):\n",
    "    return re.findall(\"[-+]?[.]?[\\d]+(?:,\\d\\d\\d)*[\\.]?\\d*(?:[eE][-+]?\\d+)?\", myString)\n",
    "\n",
    "def pad(mystr,spaces = 5):\n",
    "    return f'{mystr: <{spaces}}'"
   ]
  },
  {
   "cell_type": "code",
   "execution_count": null,
   "metadata": {},
   "outputs": [],
   "source": [
    "def getResultLatexTable(fileList):\n",
    "    results = []\n",
    "    for file in tqdm(fileList):\n",
    "        r = TrainResults.loadPickle(file)\n",
    "        idx = r.best_val_acc_epoch\n",
    "        epochLoss = pad(f'{r.epochloss[idx]:.4f}')\n",
    "        valLoss = pad(f'{r.epoch_val_loss[idx]:.4f}')\n",
    "        AUC = pad(f'{r.roc_auc:.3f}')\n",
    "        trainAcc = pad(f'{r.train_acc[idx]:.3f}')\n",
    "        valAcc = pad(f'{r.val_acc[idx]:.3f}')\n",
    "        testAcc = pad(f'{r.test_acc[idx]:.3f}')\n",
    "        walltime = pad(f'{int(r.trainingDuration)/60:.2f}')\n",
    "        params = [pad(p) for p in getNumbersFromString(getParentFolderName(file))]\n",
    "        results.append(f'{params[0]} & {params[1]} & {params[2]} & {epochLoss} & {valLoss} & {AUC} & {trainAcc} & {valAcc} & {testAcc} & {walltime}')\n",
    "    return results"
   ]
  },
  {
   "cell_type": "code",
   "execution_count": null,
   "metadata": {},
   "outputs": [],
   "source": [
    "folder = '/ceph/aissac/ntuple_for_graphs/prod_2018_v2_processed_v5_THESIS/trimmed_200000_and_cut_puppiWeightNoLep_greater_0_and_deltaR_smaller_0point5/Graphs_DYJetsToLL_M-50_genuineTaus_and_jets'\n",
    "files = glob.glob(f\"{folder}\" + \"/**/trainresult.pkl\", recursive=True)\n",
    "files = [file for file in files if \"DYJetsToLL_M-50\" in file]\n",
    "directoryNames = [path.dirname(file) for file in files]\n",
    "baseFolderNames = [path.basename(dirName) for dirName in directoryNames]\n",
    "\n",
    "#test = list(zip(files, baseFolderNames))\n",
    "#pp.pprint(test)\n",
    "\n",
    "\n",
    "#pp.pprint(directoryNames)\n",
    "#pp.pprint(baseFolderNames)\n"
   ]
  },
  {
   "cell_type": "code",
   "execution_count": null,
   "metadata": {},
   "outputs": [],
   "source": [
    "GCN_SUM_FILES = list(sorted([s for s in files if \"CustomGCN_OnlyNFeatSumMsg\" in s]))\n",
    "GCN_MEAN_FILES = list(sorted([s for s in files if \"CustomGCN_OnlyNFeatMeanMsg\" in s]))\n",
    "MPGNN_FILES = list(sorted([s for s in files if \"MPGNN\" in s and \"Mean\" not in s]))\n",
    "MPGNN_MEAN_FILES = list(sorted([s for s in files if \"MPGNN_Mean\" in s]))\n",
    "\n",
    "outputFile = '/ceph/aissac/ntuple_for_graphs/prod_2018_v2_processed_v5_THESIS/trimmed_200000_and_cut_puppiWeightNoLep_greater_0_and_deltaR_smaller_0point5/Graphs_DYJetsToLL_M-50_genuineTaus_and_jets/FormattedResultsTables.txt'\n",
    "\n",
    "allResultsList = []\n",
    "allResultsList.append(\"CUSTOM GCN ONLY N FEAT SUM MSG\")\n",
    "allResultsList.append(\"###############################################\")\n",
    "allResultsList.append(\"NHiddenFeats, MsgPasses, Dropout, TrainLoss, ValidLoss, TrainAcc, ValAcc, TestAcc, AUC, Walltime t in mins\")\n",
    "allResultsList.extend(getResultLatexTable(GCN_SUM_FILES))\n",
    "allResultsList.append(\"###############################################\\n\")\n",
    "\n",
    "allResultsList.append(\"CUSTOM GCN ONLY N MEAN SUM MSG\")\n",
    "allResultsList.append(\"###############################################\")\n",
    "allResultsList.append(\"NHiddenFeats, MsgPasses, Dropout, TrainLoss, ValidLoss, TrainAcc, ValAcc, TestAcc, AUC, Walltime t in mins\")\n",
    "allResultsList.extend(getResultLatexTable(GCN_MEAN_FILES))\n",
    "allResultsList.append(\"###############################################\\n\")\n",
    "\n",
    "allResultsList.append(\"MPGNN SUM MSG\")\n",
    "allResultsList.append(\"###############################################\")\n",
    "allResultsList.append(\"NHiddenFeats, EHiddenFeats, MsgPasses, TrainLoss, ValidLoss, TrainAcc, ValAcc, TestAcc, AUC, Walltime t in mins\")\n",
    "allResultsList.extend(getResultLatexTable(MPGNN_FILES))\n",
    "allResultsList.append(\"###############################################\\n\")\n",
    "\n",
    "allResultsList.append(\"MPGNN MEAN MSG\")\n",
    "allResultsList.append(\"###############################################\")\n",
    "allResultsList.append(\"NHiddenFeats, EHiddenFeats, MsgPasses, TrainLoss, ValidLoss, TrainAcc, ValAcc, TestAcc, AUC, Walltime t in mins\")\n",
    "allResultsList.extend(getResultLatexTable(MPGNN_MEAN_FILES))\n",
    "allResultsList.append(\"###############################################\\n\")"
   ]
  },
  {
   "cell_type": "code",
   "execution_count": null,
   "metadata": {},
   "outputs": [],
   "source": [
    "with open(outputFile, 'w') as f:\n",
    "    f.write(\"\\n\".join(allResultsList))"
   ]
  },
  {
   "cell_type": "code",
   "execution_count": null,
   "metadata": {},
   "outputs": [],
   "source": [
    "print(\"\\n\".join(allResultsList))"
   ]
  },
  {
   "cell_type": "code",
   "execution_count": 4,
   "metadata": {},
   "outputs": [],
   "source": [
    "folder = '/ceph/aissac/ntuple_for_graphs/prod_2018_v2_processed_v5_THESIS/trimmed_200000_and_cut_puppiWeightNoLep_greater_0_and_deltaR_smaller_0point5/Graphs_DYJetsToLL_M-50_genuineTaus_and_jets'\n",
    "files = glob.glob(f\"{folder}\" + \"/**/trainresult.pkl\", recursive=True)\n",
    "files = [file for file in files if \"DYJetsToLL_M-50\" in file]\n",
    "directoryNames = [path.dirname(file) for file in files]\n",
    "baseFolderNames = [path.basename(dirName) for dirName in directoryNames]"
   ]
  },
  {
   "cell_type": "code",
   "execution_count": 7,
   "metadata": {},
   "outputs": [
    {
     "name": "stdout",
     "output_type": "stream",
     "text": [
      "['/ceph/aissac/ntuple_for_graphs/prod_2018_v2_processed_v5_THESIS/trimmed_200000_and_cut_puppiWeightNoLep_greater_0_and_deltaR_smaller_0point5/Graphs_DYJetsToLL_M-50_genuineTaus_and_jets/Output_CustomGCN_OnlyNFeatMeanMsg_NHiddenFeat_32_MsgPasses_1_Dropout_0',\n",
      " '/ceph/aissac/ntuple_for_graphs/prod_2018_v2_processed_v5_THESIS/trimmed_200000_and_cut_puppiWeightNoLep_greater_0_and_deltaR_smaller_0point5/Graphs_DYJetsToLL_M-50_genuineTaus_and_jets/Output_CustomGCN_OnlyNFeatMeanMsg_NHiddenFeat_32_MsgPasses_2_Dropout_0',\n",
      " '/ceph/aissac/ntuple_for_graphs/prod_2018_v2_processed_v5_THESIS/trimmed_200000_and_cut_puppiWeightNoLep_greater_0_and_deltaR_smaller_0point5/Graphs_DYJetsToLL_M-50_genuineTaus_and_jets/Output_CustomGCN_OnlyNFeatSumMsg_NHiddenFeat_16_MsgPasses_1_Dropout_0.5',\n",
      " '/ceph/aissac/ntuple_for_graphs/prod_2018_v2_processed_v5_THESIS/trimmed_200000_and_cut_puppiWeightNoLep_greater_0_and_deltaR_smaller_0point5/Graphs_DYJetsToLL_M-50_genuineTaus_and_jets/Output_MPGNN_NHiddenFeats_16_EHiddenFeats_32_MsgPasses_2',\n",
      " '/ceph/aissac/ntuple_for_graphs/prod_2018_v2_processed_v5_THESIS/trimmed_200000_and_cut_puppiWeightNoLep_greater_0_and_deltaR_smaller_0point5/Graphs_DYJetsToLL_M-50_genuineTaus_and_jets/Output_MPGNN_Mean_NHiddenFeats_16_EHiddenFeats_32_MsgPasses_2',\n",
      " '/ceph/aissac/ntuple_for_graphs/prod_2018_v2_processed_v5_THESIS/trimmed_200000_and_cut_puppiWeightNoLep_greater_0_and_deltaR_smaller_0point5/Graphs_DYJetsToLL_M-50_genuineTaus_and_jets/Output_MPGNN_Mean_NHiddenFeats_16_EHiddenFeats_8_MsgPasses_3',\n",
      " '/ceph/aissac/ntuple_for_graphs/prod_2018_v2_processed_v5_THESIS/trimmed_200000_and_cut_puppiWeightNoLep_greater_0_and_deltaR_smaller_0point5/Graphs_DYJetsToLL_M-50_genuineTaus_and_jets/Output_CustomGCN_OnlyNFeatMeanMsg_NHiddenFeat_16_MsgPasses_3_Dropout_0.3',\n",
      " '/ceph/aissac/ntuple_for_graphs/prod_2018_v2_processed_v5_THESIS/trimmed_200000_and_cut_puppiWeightNoLep_greater_0_and_deltaR_smaller_0point5/Graphs_DYJetsToLL_M-50_genuineTaus_and_jets/Output_CustomGCN_OnlyNFeatMeanMsg_NHiddenFeat_16_MsgPasses_1_Dropout_0.5',\n",
      " '/ceph/aissac/ntuple_for_graphs/prod_2018_v2_processed_v5_THESIS/trimmed_200000_and_cut_puppiWeightNoLep_greater_0_and_deltaR_smaller_0point5/Graphs_DYJetsToLL_M-50_genuineTaus_and_jets/Output_CustomGCN_OnlyNFeatMeanMsg_NHiddenFeat_64_MsgPasses_3_Dropout_0',\n",
      " '/ceph/aissac/ntuple_for_graphs/prod_2018_v2_processed_v5_THESIS/trimmed_200000_and_cut_puppiWeightNoLep_greater_0_and_deltaR_smaller_0point5/Graphs_DYJetsToLL_M-50_genuineTaus_and_jets/Output_CustomGCN_OnlyNFeatSumMsg_NHiddenFeat_16_MsgPasses_3_Dropout_0.3',\n",
      " '/ceph/aissac/ntuple_for_graphs/prod_2018_v2_processed_v5_THESIS/trimmed_200000_and_cut_puppiWeightNoLep_greater_0_and_deltaR_smaller_0point5/Graphs_DYJetsToLL_M-50_genuineTaus_and_jets/Output_CustomGCN_OnlyNFeatSumMsg_NHiddenFeat_16_MsgPasses_1_Dropout_0.3',\n",
      " '/ceph/aissac/ntuple_for_graphs/prod_2018_v2_processed_v5_THESIS/trimmed_200000_and_cut_puppiWeightNoLep_greater_0_and_deltaR_smaller_0point5/Graphs_DYJetsToLL_M-50_genuineTaus_and_jets/Output_MPGNN_NHiddenFeats_16_EHiddenFeats_8_MsgPasses_3',\n",
      " '/ceph/aissac/ntuple_for_graphs/prod_2018_v2_processed_v5_THESIS/trimmed_200000_and_cut_puppiWeightNoLep_greater_0_and_deltaR_smaller_0point5/Graphs_DYJetsToLL_M-50_genuineTaus_and_jets/Output_CustomGCN_OnlyNFeatMeanMsg_NHiddenFeat_32_MsgPasses_3_Dropout_0.5',\n",
      " '/ceph/aissac/ntuple_for_graphs/prod_2018_v2_processed_v5_THESIS/trimmed_200000_and_cut_puppiWeightNoLep_greater_0_and_deltaR_smaller_0point5/Graphs_DYJetsToLL_M-50_genuineTaus_and_jets/Output_CustomGCN_OnlyNFeatMeanMsg_NHiddenFeat_64_MsgPasses_1_Dropout_0.3',\n",
      " '/ceph/aissac/ntuple_for_graphs/prod_2018_v2_processed_v5_THESIS/trimmed_200000_and_cut_puppiWeightNoLep_greater_0_and_deltaR_smaller_0point5/Graphs_DYJetsToLL_M-50_genuineTaus_and_jets/Output_CustomGCN_OnlyNFeatSumMsg_NHiddenFeat_32_MsgPasses_3_Dropout_0.3',\n",
      " '/ceph/aissac/ntuple_for_graphs/prod_2018_v2_processed_v5_THESIS/trimmed_200000_and_cut_puppiWeightNoLep_greater_0_and_deltaR_smaller_0point5/Graphs_DYJetsToLL_M-50_genuineTaus_and_jets/Output_CustomGCN_OnlyNFeatMeanMsg_NHiddenFeat_32_MsgPasses_2_Dropout_0.5',\n",
      " '/ceph/aissac/ntuple_for_graphs/prod_2018_v2_processed_v5_THESIS/trimmed_200000_and_cut_puppiWeightNoLep_greater_0_and_deltaR_smaller_0point5/Graphs_DYJetsToLL_M-50_genuineTaus_and_jets/Output_CustomGCN_OnlyNFeatSumMsg_NHiddenFeat_32_MsgPasses_1_Dropout_0.3',\n",
      " '/ceph/aissac/ntuple_for_graphs/prod_2018_v2_processed_v5_THESIS/trimmed_200000_and_cut_puppiWeightNoLep_greater_0_and_deltaR_smaller_0point5/Graphs_DYJetsToLL_M-50_genuineTaus_and_jets/Output_CustomGCN_OnlyNFeatMeanMsg_NHiddenFeat_64_MsgPasses_2_Dropout_0',\n",
      " '/ceph/aissac/ntuple_for_graphs/prod_2018_v2_processed_v5_THESIS/trimmed_200000_and_cut_puppiWeightNoLep_greater_0_and_deltaR_smaller_0point5/Graphs_DYJetsToLL_M-50_genuineTaus_and_jets/Output_MPGNN_Mean_NHiddenFeats_16_EHiddenFeats_8_MsgPasses_7',\n",
      " '/ceph/aissac/ntuple_for_graphs/prod_2018_v2_processed_v5_THESIS/trimmed_200000_and_cut_puppiWeightNoLep_greater_0_and_deltaR_smaller_0point5/Graphs_DYJetsToLL_M-50_genuineTaus_and_jets/Output_CustomGCN_OnlyNFeatMeanMsg_NHiddenFeat_32_MsgPasses_3_Dropout_0.3',\n",
      " '/ceph/aissac/ntuple_for_graphs/prod_2018_v2_processed_v5_THESIS/trimmed_200000_and_cut_puppiWeightNoLep_greater_0_and_deltaR_smaller_0point5/Graphs_DYJetsToLL_M-50_genuineTaus_and_jets/Output_CustomGCN_OnlyNFeatSumMsg_NHiddenFeat_64_MsgPasses_3_Dropout_0.5',\n",
      " '/ceph/aissac/ntuple_for_graphs/prod_2018_v2_processed_v5_THESIS/trimmed_200000_and_cut_puppiWeightNoLep_greater_0_and_deltaR_smaller_0point5/Graphs_DYJetsToLL_M-50_genuineTaus_and_jets/Output_CustomGCN_OnlyNFeatSumMsg_NHiddenFeat_16_MsgPasses_2_Dropout_0',\n",
      " '/ceph/aissac/ntuple_for_graphs/prod_2018_v2_processed_v5_THESIS/trimmed_200000_and_cut_puppiWeightNoLep_greater_0_and_deltaR_smaller_0point5/Graphs_DYJetsToLL_M-50_genuineTaus_and_jets/Output_MPGNN_NHiddenFeats_16_EHiddenFeats_64_MsgPasses_2',\n",
      " '/ceph/aissac/ntuple_for_graphs/prod_2018_v2_processed_v5_THESIS/trimmed_200000_and_cut_puppiWeightNoLep_greater_0_and_deltaR_smaller_0point5/Graphs_DYJetsToLL_M-50_genuineTaus_and_jets/Output_CustomGCN_OnlyNFeatSumMsg_NHiddenFeat_64_MsgPasses_1_Dropout_0',\n",
      " '/ceph/aissac/ntuple_for_graphs/prod_2018_v2_processed_v5_THESIS/trimmed_200000_and_cut_puppiWeightNoLep_greater_0_and_deltaR_smaller_0point5/Graphs_DYJetsToLL_M-50_genuineTaus_and_jets/Output_CustomGCN_OnlyNFeatSumMsg_NHiddenFeat_32_MsgPasses_3_Dropout_0.5',\n",
      " '/ceph/aissac/ntuple_for_graphs/prod_2018_v2_processed_v5_THESIS/trimmed_200000_and_cut_puppiWeightNoLep_greater_0_and_deltaR_smaller_0point5/Graphs_DYJetsToLL_M-50_genuineTaus_and_jets/Output_MPGNN_Mean_NHiddenFeats_16_EHiddenFeats_16_MsgPasses_2',\n",
      " '/ceph/aissac/ntuple_for_graphs/prod_2018_v2_processed_v5_THESIS/trimmed_200000_and_cut_puppiWeightNoLep_greater_0_and_deltaR_smaller_0point5/Graphs_DYJetsToLL_M-50_genuineTaus_and_jets/Output_CustomGCN_OnlyNFeatSumMsg_NHiddenFeat_64_MsgPasses_2_Dropout_0',\n",
      " '/ceph/aissac/ntuple_for_graphs/prod_2018_v2_processed_v5_THESIS/trimmed_200000_and_cut_puppiWeightNoLep_greater_0_and_deltaR_smaller_0point5/Graphs_DYJetsToLL_M-50_genuineTaus_and_jets/Output_MPGNN_Mean_NHiddenFeats_16_EHiddenFeats_128_MsgPasses_2',\n",
      " '/ceph/aissac/ntuple_for_graphs/prod_2018_v2_processed_v5_THESIS/trimmed_200000_and_cut_puppiWeightNoLep_greater_0_and_deltaR_smaller_0point5/Graphs_DYJetsToLL_M-50_genuineTaus_and_jets/Output_CustomGCN_OnlyNFeatMeanMsg_NHiddenFeat_64_MsgPasses_5_Dropout_0',\n",
      " '/ceph/aissac/ntuple_for_graphs/prod_2018_v2_processed_v5_THESIS/trimmed_200000_and_cut_puppiWeightNoLep_greater_0_and_deltaR_smaller_0point5/Graphs_DYJetsToLL_M-50_genuineTaus_and_jets/Output_MPGNN_NHiddenFeats_16_EHiddenFeats_16_MsgPasses_2',\n",
      " '/ceph/aissac/ntuple_for_graphs/prod_2018_v2_processed_v5_THESIS/trimmed_200000_and_cut_puppiWeightNoLep_greater_0_and_deltaR_smaller_0point5/Graphs_DYJetsToLL_M-50_genuineTaus_and_jets/Output_CustomGCN_OnlyNFeatSumMsg_NHiddenFeat_32_MsgPasses_5_Dropout_0.5',\n",
      " '/ceph/aissac/ntuple_for_graphs/prod_2018_v2_processed_v5_THESIS/trimmed_200000_and_cut_puppiWeightNoLep_greater_0_and_deltaR_smaller_0point5/Graphs_DYJetsToLL_M-50_genuineTaus_and_jets/Output_CustomGCN_OnlyNFeatSumMsg_NHiddenFeat_32_MsgPasses_1_Dropout_0.5',\n",
      " '/ceph/aissac/ntuple_for_graphs/prod_2018_v2_processed_v5_THESIS/trimmed_200000_and_cut_puppiWeightNoLep_greater_0_and_deltaR_smaller_0point5/Graphs_DYJetsToLL_M-50_genuineTaus_and_jets/Output_CustomGCN_OnlyNFeatSumMsg_NHiddenFeat_64_MsgPasses_1_Dropout_0.5',\n",
      " '/ceph/aissac/ntuple_for_graphs/prod_2018_v2_processed_v5_THESIS/trimmed_200000_and_cut_puppiWeightNoLep_greater_0_and_deltaR_smaller_0point5/Graphs_DYJetsToLL_M-50_genuineTaus_and_jets/Output_CustomGCN_OnlyNFeatMeanMsg_NHiddenFeat_16_MsgPasses_5_Dropout_0.3',\n",
      " '/ceph/aissac/ntuple_for_graphs/prod_2018_v2_processed_v5_THESIS/trimmed_200000_and_cut_puppiWeightNoLep_greater_0_and_deltaR_smaller_0point5/Graphs_DYJetsToLL_M-50_genuineTaus_and_jets/Output_CustomGCN_OnlyNFeatSumMsg_NHiddenFeat_64_MsgPasses_3_Dropout_0.3',\n",
      " '/ceph/aissac/ntuple_for_graphs/prod_2018_v2_processed_v5_THESIS/trimmed_200000_and_cut_puppiWeightNoLep_greater_0_and_deltaR_smaller_0point5/Graphs_DYJetsToLL_M-50_genuineTaus_and_jets/Output_MPGNN_Mean_NHiddenFeats_16_EHiddenFeats_8_MsgPasses_2',\n",
      " '/ceph/aissac/ntuple_for_graphs/prod_2018_v2_processed_v5_THESIS/trimmed_200000_and_cut_puppiWeightNoLep_greater_0_and_deltaR_smaller_0point5/Graphs_DYJetsToLL_M-50_genuineTaus_and_jets/Output_CustomGCN_OnlyNFeatMeanMsg_NHiddenFeat_16_MsgPasses_2_Dropout_0.3',\n",
      " '/ceph/aissac/ntuple_for_graphs/prod_2018_v2_processed_v5_THESIS/trimmed_200000_and_cut_puppiWeightNoLep_greater_0_and_deltaR_smaller_0point5/Graphs_DYJetsToLL_M-50_genuineTaus_and_jets/Output_MPGNN_Mean_NHiddenFeats_32_EHiddenFeats_16_MsgPasses_2',\n",
      " '/ceph/aissac/ntuple_for_graphs/prod_2018_v2_processed_v5_THESIS/trimmed_200000_and_cut_puppiWeightNoLep_greater_0_and_deltaR_smaller_0point5/Graphs_DYJetsToLL_M-50_genuineTaus_and_jets/Output_MPGNN_NHiddenFeats_16_EHiddenFeats_8_MsgPasses_5',\n",
      " '/ceph/aissac/ntuple_for_graphs/prod_2018_v2_processed_v5_THESIS/trimmed_200000_and_cut_puppiWeightNoLep_greater_0_and_deltaR_smaller_0point5/Graphs_DYJetsToLL_M-50_genuineTaus_and_jets/Output_CustomGCN_OnlyNFeatSumMsg_NHiddenFeat_32_MsgPasses_5_Dropout_0.3',\n",
      " '/ceph/aissac/ntuple_for_graphs/prod_2018_v2_processed_v5_THESIS/trimmed_200000_and_cut_puppiWeightNoLep_greater_0_and_deltaR_smaller_0point5/Graphs_DYJetsToLL_M-50_genuineTaus_and_jets/Output_CustomGCN_OnlyNFeatMeanMsg_NHiddenFeat_64_MsgPasses_5_Dropout_0.3',\n",
      " '/ceph/aissac/ntuple_for_graphs/prod_2018_v2_processed_v5_THESIS/trimmed_200000_and_cut_puppiWeightNoLep_greater_0_and_deltaR_smaller_0point5/Graphs_DYJetsToLL_M-50_genuineTaus_and_jets/Output_MPGNN_NHiddenFeats_32_EHiddenFeats_8_MsgPasses_2',\n",
      " '/ceph/aissac/ntuple_for_graphs/prod_2018_v2_processed_v5_THESIS/trimmed_200000_and_cut_puppiWeightNoLep_greater_0_and_deltaR_smaller_0point5/Graphs_DYJetsToLL_M-50_genuineTaus_and_jets/Output_CustomGCN_OnlyNFeatSumMsg_NHiddenFeat_64_MsgPasses_2_Dropout_0.5',\n",
      " '/ceph/aissac/ntuple_for_graphs/prod_2018_v2_processed_v5_THESIS/trimmed_200000_and_cut_puppiWeightNoLep_greater_0_and_deltaR_smaller_0point5/Graphs_DYJetsToLL_M-50_genuineTaus_and_jets/Output_CustomGCN_OnlyNFeatSumMsg_NHiddenFeat_16_MsgPasses_2_Dropout_0.3',\n",
      " '/ceph/aissac/ntuple_for_graphs/prod_2018_v2_processed_v5_THESIS/trimmed_200000_and_cut_puppiWeightNoLep_greater_0_and_deltaR_smaller_0point5/Graphs_DYJetsToLL_M-50_genuineTaus_and_jets/Output_CustomGCN_OnlyNFeatMeanMsg_NHiddenFeat_32_MsgPasses_1_Dropout_0.5',\n",
      " '/ceph/aissac/ntuple_for_graphs/prod_2018_v2_processed_v5_THESIS/trimmed_200000_and_cut_puppiWeightNoLep_greater_0_and_deltaR_smaller_0point5/Graphs_DYJetsToLL_M-50_genuineTaus_and_jets/Output_CustomGCN_OnlyNFeatSumMsg_NHiddenFeat_64_MsgPasses_5_Dropout_0.3',\n",
      " '/ceph/aissac/ntuple_for_graphs/prod_2018_v2_processed_v5_THESIS/trimmed_200000_and_cut_puppiWeightNoLep_greater_0_and_deltaR_smaller_0point5/Graphs_DYJetsToLL_M-50_genuineTaus_and_jets/Output_MPGNN_NHiddenFeats_32_EHiddenFeats_16_MsgPasses_2',\n",
      " '/ceph/aissac/ntuple_for_graphs/prod_2018_v2_processed_v5_THESIS/trimmed_200000_and_cut_puppiWeightNoLep_greater_0_and_deltaR_smaller_0point5/Graphs_DYJetsToLL_M-50_genuineTaus_and_jets/Output_CustomGCN_OnlyNFeatSumMsg_NHiddenFeat_64_MsgPasses_5_Dropout_0',\n",
      " '/ceph/aissac/ntuple_for_graphs/prod_2018_v2_processed_v5_THESIS/trimmed_200000_and_cut_puppiWeightNoLep_greater_0_and_deltaR_smaller_0point5/Graphs_DYJetsToLL_M-50_genuineTaus_and_jets/Output_CustomGCN_OnlyNFeatSumMsg_NHiddenFeat_32_MsgPasses_1_Dropout_0',\n",
      " '/ceph/aissac/ntuple_for_graphs/prod_2018_v2_processed_v5_THESIS/trimmed_200000_and_cut_puppiWeightNoLep_greater_0_and_deltaR_smaller_0point5/Graphs_DYJetsToLL_M-50_genuineTaus_and_jets/Output_CustomGCN_OnlyNFeatMeanMsg_NHiddenFeat_64_MsgPasses_2_Dropout_0.5',\n",
      " '/ceph/aissac/ntuple_for_graphs/prod_2018_v2_processed_v5_THESIS/trimmed_200000_and_cut_puppiWeightNoLep_greater_0_and_deltaR_smaller_0point5/Graphs_DYJetsToLL_M-50_genuineTaus_and_jets/Output_CustomGCN_OnlyNFeatSumMsg_NHiddenFeat_32_MsgPasses_2_Dropout_0.5',\n",
      " '/ceph/aissac/ntuple_for_graphs/prod_2018_v2_processed_v5_THESIS/trimmed_200000_and_cut_puppiWeightNoLep_greater_0_and_deltaR_smaller_0point5/Graphs_DYJetsToLL_M-50_genuineTaus_and_jets/Output_CustomGCN_OnlyNFeatSumMsg_NHiddenFeat_32_MsgPasses_2_Dropout_0',\n",
      " '/ceph/aissac/ntuple_for_graphs/prod_2018_v2_processed_v5_THESIS/trimmed_200000_and_cut_puppiWeightNoLep_greater_0_and_deltaR_smaller_0point5/Graphs_DYJetsToLL_M-50_genuineTaus_and_jets/Output_CustomGCN_OnlyNFeatSumMsg_NHiddenFeat_64_MsgPasses_2_Dropout_0.3',\n",
      " '/ceph/aissac/ntuple_for_graphs/prod_2018_v2_processed_v5_THESIS/trimmed_200000_and_cut_puppiWeightNoLep_greater_0_and_deltaR_smaller_0point5/Graphs_DYJetsToLL_M-50_genuineTaus_and_jets/Output_CustomGCN_OnlyNFeatSumMsg_NHiddenFeat_64_MsgPasses_1_Dropout_0.3',\n",
      " '/ceph/aissac/ntuple_for_graphs/prod_2018_v2_processed_v5_THESIS/trimmed_200000_and_cut_puppiWeightNoLep_greater_0_and_deltaR_smaller_0point5/Graphs_DYJetsToLL_M-50_genuineTaus_and_jets/Output_CustomGCN_OnlyNFeatMeanMsg_NHiddenFeat_64_MsgPasses_3_Dropout_0.5',\n",
      " '/ceph/aissac/ntuple_for_graphs/prod_2018_v2_processed_v5_THESIS/trimmed_200000_and_cut_puppiWeightNoLep_greater_0_and_deltaR_smaller_0point5/Graphs_DYJetsToLL_M-50_genuineTaus_and_jets/Output_CustomGCN_OnlyNFeatSumMsg_NHiddenFeat_16_MsgPasses_5_Dropout_0.5',\n",
      " '/ceph/aissac/ntuple_for_graphs/prod_2018_v2_processed_v5_THESIS/trimmed_200000_and_cut_puppiWeightNoLep_greater_0_and_deltaR_smaller_0point5/Graphs_DYJetsToLL_M-50_genuineTaus_and_jets/Output_CustomGCN_OnlyNFeatMeanMsg_NHiddenFeat_32_MsgPasses_3_Dropout_0',\n",
      " '/ceph/aissac/ntuple_for_graphs/prod_2018_v2_processed_v5_THESIS/trimmed_200000_and_cut_puppiWeightNoLep_greater_0_and_deltaR_smaller_0point5/Graphs_DYJetsToLL_M-50_genuineTaus_and_jets/Output_CustomGCN_OnlyNFeatMeanMsg_NHiddenFeat_16_MsgPasses_2_Dropout_0',\n",
      " '/ceph/aissac/ntuple_for_graphs/prod_2018_v2_processed_v5_THESIS/trimmed_200000_and_cut_puppiWeightNoLep_greater_0_and_deltaR_smaller_0point5/Graphs_DYJetsToLL_M-50_genuineTaus_and_jets/Output_CustomGCN_OnlyNFeatSumMsg_NHiddenFeat_64_MsgPasses_3_Dropout_0',\n",
      " '/ceph/aissac/ntuple_for_graphs/prod_2018_v2_processed_v5_THESIS/trimmed_200000_and_cut_puppiWeightNoLep_greater_0_and_deltaR_smaller_0point5/Graphs_DYJetsToLL_M-50_genuineTaus_and_jets/Output_CustomGCN_OnlyNFeatMeanMsg_NHiddenFeat_32_MsgPasses_5_Dropout_0',\n",
      " '/ceph/aissac/ntuple_for_graphs/prod_2018_v2_processed_v5_THESIS/trimmed_200000_and_cut_puppiWeightNoLep_greater_0_and_deltaR_smaller_0point5/Graphs_DYJetsToLL_M-50_genuineTaus_and_jets/Output_CustomGCN_OnlyNFeatMeanMsg_NHiddenFeat_32_MsgPasses_1_Dropout_0.3',\n",
      " '/ceph/aissac/ntuple_for_graphs/prod_2018_v2_processed_v5_THESIS/trimmed_200000_and_cut_puppiWeightNoLep_greater_0_and_deltaR_smaller_0point5/Graphs_DYJetsToLL_M-50_genuineTaus_and_jets/Output_MPGNN_Mean_NHiddenFeats_32_EHiddenFeats_32_MsgPasses_2',\n",
      " '/ceph/aissac/ntuple_for_graphs/prod_2018_v2_processed_v5_THESIS/trimmed_200000_and_cut_puppiWeightNoLep_greater_0_and_deltaR_smaller_0point5/Graphs_DYJetsToLL_M-50_genuineTaus_and_jets/Output_MPGNN_Mean_NHiddenFeats_16_EHiddenFeats_8_MsgPasses_5',\n",
      " '/ceph/aissac/ntuple_for_graphs/prod_2018_v2_processed_v5_THESIS/trimmed_200000_and_cut_puppiWeightNoLep_greater_0_and_deltaR_smaller_0point5/Graphs_DYJetsToLL_M-50_genuineTaus_and_jets/Output_CustomGCN_OnlyNFeatSumMsg_NHiddenFeat_16_MsgPasses_5_Dropout_0.3',\n",
      " '/ceph/aissac/ntuple_for_graphs/prod_2018_v2_processed_v5_THESIS/trimmed_200000_and_cut_puppiWeightNoLep_greater_0_and_deltaR_smaller_0point5/Graphs_DYJetsToLL_M-50_genuineTaus_and_jets/Output_CustomGCN_OnlyNFeatMeanMsg_NHiddenFeat_64_MsgPasses_1_Dropout_0.5',\n",
      " '/ceph/aissac/ntuple_for_graphs/prod_2018_v2_processed_v5_THESIS/trimmed_200000_and_cut_puppiWeightNoLep_greater_0_and_deltaR_smaller_0point5/Graphs_DYJetsToLL_M-50_genuineTaus_and_jets/Output_CustomGCN_OnlyNFeatMeanMsg_NHiddenFeat_16_MsgPasses_1_Dropout_0',\n",
      " '/ceph/aissac/ntuple_for_graphs/prod_2018_v2_processed_v5_THESIS/trimmed_200000_and_cut_puppiWeightNoLep_greater_0_and_deltaR_smaller_0point5/Graphs_DYJetsToLL_M-50_genuineTaus_and_jets/Output_CustomGCN_OnlyNFeatMeanMsg_NHiddenFeat_64_MsgPasses_3_Dropout_0.3',\n",
      " '/ceph/aissac/ntuple_for_graphs/prod_2018_v2_processed_v5_THESIS/trimmed_200000_and_cut_puppiWeightNoLep_greater_0_and_deltaR_smaller_0point5/Graphs_DYJetsToLL_M-50_genuineTaus_and_jets/Output_CustomGCN_OnlyNFeatMeanMsg_NHiddenFeat_16_MsgPasses_3_Dropout_0',\n",
      " '/ceph/aissac/ntuple_for_graphs/prod_2018_v2_processed_v5_THESIS/trimmed_200000_and_cut_puppiWeightNoLep_greater_0_and_deltaR_smaller_0point5/Graphs_DYJetsToLL_M-50_genuineTaus_and_jets/Output_CustomGCN_OnlyNFeatSumMsg_NHiddenFeat_16_MsgPasses_5_Dropout_0',\n",
      " '/ceph/aissac/ntuple_for_graphs/prod_2018_v2_processed_v5_THESIS/trimmed_200000_and_cut_puppiWeightNoLep_greater_0_and_deltaR_smaller_0point5/Graphs_DYJetsToLL_M-50_genuineTaus_and_jets/Output_CustomGCN_OnlyNFeatSumMsg_NHiddenFeat_16_MsgPasses_1_Dropout_0',\n",
      " '/ceph/aissac/ntuple_for_graphs/prod_2018_v2_processed_v5_THESIS/trimmed_200000_and_cut_puppiWeightNoLep_greater_0_and_deltaR_smaller_0point5/Graphs_DYJetsToLL_M-50_genuineTaus_and_jets/Output_CustomGCN_OnlyNFeatMeanMsg_NHiddenFeat_64_MsgPasses_1_Dropout_0',\n",
      " '/ceph/aissac/ntuple_for_graphs/prod_2018_v2_processed_v5_THESIS/trimmed_200000_and_cut_puppiWeightNoLep_greater_0_and_deltaR_smaller_0point5/Graphs_DYJetsToLL_M-50_genuineTaus_and_jets/Output_CustomGCN_OnlyNFeatMeanMsg_NHiddenFeat_64_MsgPasses_5_Dropout_0.5',\n",
      " '/ceph/aissac/ntuple_for_graphs/prod_2018_v2_processed_v5_THESIS/trimmed_200000_and_cut_puppiWeightNoLep_greater_0_and_deltaR_smaller_0point5/Graphs_DYJetsToLL_M-50_genuineTaus_and_jets/Output_MPGNN_NHiddenFeats_16_EHiddenFeats_8_MsgPasses_7',\n",
      " '/ceph/aissac/ntuple_for_graphs/prod_2018_v2_processed_v5_THESIS/trimmed_200000_and_cut_puppiWeightNoLep_greater_0_and_deltaR_smaller_0point5/Graphs_DYJetsToLL_M-50_genuineTaus_and_jets/Output_CustomGCN_OnlyNFeatSumMsg_NHiddenFeat_32_MsgPasses_2_Dropout_0.3',\n",
      " '/ceph/aissac/ntuple_for_graphs/prod_2018_v2_processed_v5_THESIS/trimmed_200000_and_cut_puppiWeightNoLep_greater_0_and_deltaR_smaller_0point5/Graphs_DYJetsToLL_M-50_genuineTaus_and_jets/Output_CustomGCN_OnlyNFeatMeanMsg_NHiddenFeat_16_MsgPasses_1_Dropout_0.3',\n",
      " '/ceph/aissac/ntuple_for_graphs/prod_2018_v2_processed_v5_THESIS/trimmed_200000_and_cut_puppiWeightNoLep_greater_0_and_deltaR_smaller_0point5/Graphs_DYJetsToLL_M-50_genuineTaus_and_jets/Output_CustomGCN_OnlyNFeatMeanMsg_NHiddenFeat_32_MsgPasses_5_Dropout_0.3',\n",
      " '/ceph/aissac/ntuple_for_graphs/prod_2018_v2_processed_v5_THESIS/trimmed_200000_and_cut_puppiWeightNoLep_greater_0_and_deltaR_smaller_0point5/Graphs_DYJetsToLL_M-50_genuineTaus_and_jets/Output_MPGNN_Mean_NHiddenFeats_32_EHiddenFeats_8_MsgPasses_2',\n",
      " '/ceph/aissac/ntuple_for_graphs/prod_2018_v2_processed_v5_THESIS/trimmed_200000_and_cut_puppiWeightNoLep_greater_0_and_deltaR_smaller_0point5/Graphs_DYJetsToLL_M-50_genuineTaus_and_jets/Output_CustomGCN_OnlyNFeatSumMsg_NHiddenFeat_16_MsgPasses_3_Dropout_0.5',\n",
      " '/ceph/aissac/ntuple_for_graphs/prod_2018_v2_processed_v5_THESIS/trimmed_200000_and_cut_puppiWeightNoLep_greater_0_and_deltaR_smaller_0point5/Graphs_DYJetsToLL_M-50_genuineTaus_and_jets/Output_MPGNN_NHiddenFeats_32_EHiddenFeats_32_MsgPasses_2',\n",
      " '/ceph/aissac/ntuple_for_graphs/prod_2018_v2_processed_v5_THESIS/trimmed_200000_and_cut_puppiWeightNoLep_greater_0_and_deltaR_smaller_0point5/Graphs_DYJetsToLL_M-50_genuineTaus_and_jets/Output_CustomGCN_OnlyNFeatSumMsg_NHiddenFeat_16_MsgPasses_3_Dropout_0',\n",
      " '/ceph/aissac/ntuple_for_graphs/prod_2018_v2_processed_v5_THESIS/trimmed_200000_and_cut_puppiWeightNoLep_greater_0_and_deltaR_smaller_0point5/Graphs_DYJetsToLL_M-50_genuineTaus_and_jets/Output_CustomGCN_OnlyNFeatMeanMsg_NHiddenFeat_16_MsgPasses_5_Dropout_0.5',\n",
      " '/ceph/aissac/ntuple_for_graphs/prod_2018_v2_processed_v5_THESIS/trimmed_200000_and_cut_puppiWeightNoLep_greater_0_and_deltaR_smaller_0point5/Graphs_DYJetsToLL_M-50_genuineTaus_and_jets/Output_CustomGCN_OnlyNFeatSumMsg_NHiddenFeat_32_MsgPasses_5_Dropout_0',\n",
      " '/ceph/aissac/ntuple_for_graphs/prod_2018_v2_processed_v5_THESIS/trimmed_200000_and_cut_puppiWeightNoLep_greater_0_and_deltaR_smaller_0point5/Graphs_DYJetsToLL_M-50_genuineTaus_and_jets/Output_CustomGCN_OnlyNFeatMeanMsg_NHiddenFeat_16_MsgPasses_2_Dropout_0.5',\n",
      " '/ceph/aissac/ntuple_for_graphs/prod_2018_v2_processed_v5_THESIS/trimmed_200000_and_cut_puppiWeightNoLep_greater_0_and_deltaR_smaller_0point5/Graphs_DYJetsToLL_M-50_genuineTaus_and_jets/Output_MPGNN_Mean_NHiddenFeats_16_EHiddenFeats_64_MsgPasses_2',\n",
      " '/ceph/aissac/ntuple_for_graphs/prod_2018_v2_processed_v5_THESIS/trimmed_200000_and_cut_puppiWeightNoLep_greater_0_and_deltaR_smaller_0point5/Graphs_DYJetsToLL_M-50_genuineTaus_and_jets/Output_CustomGCN_OnlyNFeatMeanMsg_NHiddenFeat_16_MsgPasses_3_Dropout_0.5',\n",
      " '/ceph/aissac/ntuple_for_graphs/prod_2018_v2_processed_v5_THESIS/trimmed_200000_and_cut_puppiWeightNoLep_greater_0_and_deltaR_smaller_0point5/Graphs_DYJetsToLL_M-50_genuineTaus_and_jets/Output_CustomGCN_OnlyNFeatSumMsg_NHiddenFeat_64_MsgPasses_5_Dropout_0.5',\n",
      " '/ceph/aissac/ntuple_for_graphs/prod_2018_v2_processed_v5_THESIS/trimmed_200000_and_cut_puppiWeightNoLep_greater_0_and_deltaR_smaller_0point5/Graphs_DYJetsToLL_M-50_genuineTaus_and_jets/Output_CustomGCN_OnlyNFeatMeanMsg_NHiddenFeat_32_MsgPasses_5_Dropout_0.5',\n",
      " '/ceph/aissac/ntuple_for_graphs/prod_2018_v2_processed_v5_THESIS/trimmed_200000_and_cut_puppiWeightNoLep_greater_0_and_deltaR_smaller_0point5/Graphs_DYJetsToLL_M-50_genuineTaus_and_jets/Output_CustomGCN_OnlyNFeatMeanMsg_NHiddenFeat_32_MsgPasses_2_Dropout_0.3',\n",
      " '/ceph/aissac/ntuple_for_graphs/prod_2018_v2_processed_v5_THESIS/trimmed_200000_and_cut_puppiWeightNoLep_greater_0_and_deltaR_smaller_0point5/Graphs_DYJetsToLL_M-50_genuineTaus_and_jets/Output_CustomGCN_OnlyNFeatMeanMsg_NHiddenFeat_64_MsgPasses_2_Dropout_0.3',\n",
      " '/ceph/aissac/ntuple_for_graphs/prod_2018_v2_processed_v5_THESIS/trimmed_200000_and_cut_puppiWeightNoLep_greater_0_and_deltaR_smaller_0point5/Graphs_DYJetsToLL_M-50_genuineTaus_and_jets/Output_MPGNN_NHiddenFeats_16_EHiddenFeats_128_MsgPasses_2',\n",
      " '/ceph/aissac/ntuple_for_graphs/prod_2018_v2_processed_v5_THESIS/trimmed_200000_and_cut_puppiWeightNoLep_greater_0_and_deltaR_smaller_0point5/Graphs_DYJetsToLL_M-50_genuineTaus_and_jets/Output_CustomGCN_OnlyNFeatSumMsg_NHiddenFeat_16_MsgPasses_2_Dropout_0.5',\n",
      " '/ceph/aissac/ntuple_for_graphs/prod_2018_v2_processed_v5_THESIS/trimmed_200000_and_cut_puppiWeightNoLep_greater_0_and_deltaR_smaller_0point5/Graphs_DYJetsToLL_M-50_genuineTaus_and_jets/Output_MPGNN_NHiddenFeats_16_EHiddenFeats_8_MsgPasses_2',\n",
      " '/ceph/aissac/ntuple_for_graphs/prod_2018_v2_processed_v5_THESIS/trimmed_200000_and_cut_puppiWeightNoLep_greater_0_and_deltaR_smaller_0point5/Graphs_DYJetsToLL_M-50_genuineTaus_and_jets/Output_CustomGCN_OnlyNFeatMeanMsg_NHiddenFeat_16_MsgPasses_5_Dropout_0',\n",
      " '/ceph/aissac/ntuple_for_graphs/prod_2018_v2_processed_v5_THESIS/trimmed_200000_and_cut_puppiWeightNoLep_greater_0_and_deltaR_smaller_0point5/Graphs_DYJetsToLL_M-50_genuineTaus_and_jets/Output_CustomGCN_OnlyNFeatSumMsg_NHiddenFeat_32_MsgPasses_3_Dropout_0']\n"
     ]
    }
   ],
   "source": [
    "pp.pprint([path.dirname(f) for f in files])"
   ]
  },
  {
   "cell_type": "code",
   "execution_count": 9,
   "metadata": {},
   "outputs": [
    {
     "name": "stderr",
     "output_type": "stream",
     "text": [
      "100%|██████████| 94/94 [14:22<00:00,  9.17s/it]\n"
     ]
    }
   ],
   "source": [
    "for file in tqdm(files):\n",
    "    r = TrainResults.loadPickle(file)\n",
    "    r.savePlots(path.dirname(file))"
   ]
  },
  {
   "cell_type": "code",
   "execution_count": null,
   "metadata": {},
   "outputs": [],
   "source": []
  }
 ],
 "metadata": {
  "interpreter": {
   "hash": "18e711687f31016629c64c84d23d27d9292aefc640ef90f9639fb07f22fea1b3"
  },
  "kernelspec": {
   "display_name": "Python 3",
   "language": "python",
   "name": "python3"
  },
  "language_info": {
   "codemirror_mode": {
    "name": "ipython",
    "version": 3
   },
   "file_extension": ".py",
   "mimetype": "text/x-python",
   "name": "python",
   "nbconvert_exporter": "python",
   "pygments_lexer": "ipython3",
   "version": "3.6.8"
  }
 },
 "nbformat": 4,
 "nbformat_minor": 2
}
