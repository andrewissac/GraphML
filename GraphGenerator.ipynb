{
 "cells": [
  {
   "cell_type": "code",
   "execution_count": 4,
   "metadata": {},
   "outputs": [
    {
     "name": "stdout",
     "output_type": "stream",
     "text": [
      "['/ceph/akhmet/forAndrewIsaac/prod_2018_v2_processed_v4/WJetsToLNu_invalid.root:taus',\n",
      " '/ceph/akhmet/forAndrewIsaac/prod_2018_v2_processed_v4/WJetsToLNu_taus.root:taus',\n",
      " '/ceph/akhmet/forAndrewIsaac/prod_2018_v2_processed_v4/DYJetsToLL_M-50_invalid.root:taus',\n",
      " '/ceph/akhmet/forAndrewIsaac/prod_2018_v2_processed_v4/WJetsToLNu_muons.root:taus',\n",
      " '/ceph/akhmet/forAndrewIsaac/prod_2018_v2_processed_v4/DYJetsToLL_M-50_electrons.root:taus',\n",
      " '/ceph/akhmet/forAndrewIsaac/prod_2018_v2_processed_v4/DYJetsToLL_M-50_taus.root:taus',\n",
      " '/ceph/akhmet/forAndrewIsaac/prod_2018_v2_processed_v4/DYJetsToLL_M-50_muons.root:taus',\n",
      " '/ceph/akhmet/forAndrewIsaac/prod_2018_v2_processed_v4/WJetsToLNu_electrons.root:taus',\n",
      " '/ceph/akhmet/forAndrewIsaac/prod_2018_v2_processed_v4/DYJetsToLL_M-50_jets.root:taus',\n",
      " '/ceph/akhmet/forAndrewIsaac/prod_2018_v2_processed_v4/WJetsToLNu_jets.root:taus']\n",
      "['pfCand_pt', 'pfCand_eta', 'pfCand_phi', 'pfCand_mass', 'pfCand_charge', 'pfCand_tauIso', 'pfCand_tauSignal', 'pfCand_particleType', 'pfCand_fromPV', 'pfCand_puppiWeight', 'pfCand_puppiWeightNoLep']\n",
      "\n",
      "\n",
      "(\"keys: ['run', 'lumi', 'evt', 'npv', 'rho', 'tau_pt', 'tau_eta', 'tau_phi', \"\n",
      " \"'tau_mass', 'tau_charge', 'tau_decayMode', 'tau_byDeepTau2017v2p1VSjetraw', \"\n",
      " \"'tau_byDeepTau2017v2p1VSjet', 'tau_byDeepTau2017v2p1VSeraw', \"\n",
      " \"'tau_byDeepTau2017v2p1VSe', 'tau_byDeepTau2017v2p1VSmuraw', \"\n",
      " \"'tau_byDeepTau2017v2p1VSmu', 'jet_pt', 'jet_eta', 'jet_phi', 'jet_mass', \"\n",
      " \"'jet_partonFlavour', 'jet_hadronFlavour', 'ele_pt', 'ele_eta', 'ele_phi', \"\n",
      " \"'ele_mass', 'muon_pt', 'muon_eta', 'muon_phi', 'muon_mass', 'muon_type', \"\n",
      " \"'pfCand_pt', 'pfCand_eta', 'pfCand_phi', 'pfCand_mass', 'pfCand_charge', \"\n",
      " \"'pfCand_tauIso', 'pfCand_tauSignal', 'pfCand_particleType', 'pfCand_fromPV', \"\n",
      " \"'pfCand_puppiWeight', 'pfCand_puppiWeightNoLep', 'gen_match']\")\n",
      "\n",
      "\n",
      "(\"values: [<TBranch 'run' at 0x7fb77336e5f8>, <TBranch 'lumi' at \"\n",
      " \"0x7fb77336e5c0>, <TBranch 'evt' at 0x7fb7551057f0>, <TBranch 'npv' at \"\n",
      " \"0x7fb755105eb8>, <TBranch 'rho' at 0x7fb75510c5c0>, <TBranch 'tau_pt' at \"\n",
      " \"0x7fb75510cc88>, <TBranch 'tau_eta' at 0x7fb7527a4358>, <TBranch 'tau_phi' \"\n",
      " \"at 0x7fb7527a49e8>, <TBranch 'tau_mass' at 0x7fb7527940b8>, <TBranch \"\n",
      " \"'tau_charge' at 0x7fb7527946a0>, <TBranch 'tau_decayMode' at \"\n",
      " \"0x7fb752794c88>, <TBranch 'tau_byDeepTau2017v2p1VSjetraw' at \"\n",
      " \"0x7fb7527972b0>, <TBranch 'tau_byDeepTau2017v2p1VSjet' at 0x7fb752797898>, \"\n",
      " \"<TBranch 'tau_byDeepTau2017v2p1VSeraw' at 0x7fb752797e80>, <TBranch \"\n",
      " \"'tau_byDeepTau2017v2p1VSe' at 0x7fb7527934a8>, <TBranch \"\n",
      " \"'tau_byDeepTau2017v2p1VSmuraw' at 0x7fb752793a90>, <TBranch \"\n",
      " \"'tau_byDeepTau2017v2p1VSmu' at 0x7fb7527b20b8>, <TBranch 'jet_pt' at \"\n",
      " \"0x7fb7527b26a0>, <TBranch 'jet_eta' at 0x7fb7527b2d30>, <TBranch 'jet_phi' \"\n",
      " \"at 0x7fb7527a8400>, <TBranch 'jet_mass' at 0x7fb7527a8a90>, <TBranch \"\n",
      " \"'jet_partonFlavour' at 0x7fb770a400b8>, <TBranch 'jet_hadronFlavour' at \"\n",
      " \"0x7fb770a406a0>, <TBranchElement 'ele_pt' at 0x7fb770a40c88>, \"\n",
      " \"<TBranchElement 'ele_eta' at 0x7fb770a4c4a8>, <TBranchElement 'ele_phi' at \"\n",
      " \"0x7fb770a4cc88>, <TBranchElement 'ele_mass' at 0x7fb770a434a8>, \"\n",
      " \"<TBranchElement 'muon_pt' at 0x7fb770a43ba8>, <TBranchElement 'muon_eta' at \"\n",
      " \"0x7fb770a3d3c8>, <TBranchElement 'muon_phi' at 0x7fb770a3dac8>, \"\n",
      " \"<TBranchElement 'muon_mass' at 0x7fb770a35208>, <TBranchElement 'muon_type' \"\n",
      " \"at 0x7fb770a35908>, <TBranchElement 'pfCand_pt' at 0x7fb770a21048>, \"\n",
      " \"<TBranchElement 'pfCand_eta' at 0x7fb770a21748>, <TBranchElement \"\n",
      " \"'pfCand_phi' at 0x7fb770a21e48>, <TBranchElement 'pfCand_mass' at \"\n",
      " \"0x7fb770a20588>, <TBranchElement 'pfCand_charge' at 0x7fb770a20c88>, \"\n",
      " \"<TBranchElement 'pfCand_tauIso' at 0x7fb7709de3c8>, <TBranchElement \"\n",
      " \"'pfCand_tauSignal' at 0x7fb7709deac8>, <TBranchElement 'pfCand_particleType' \"\n",
      " \"at 0x7fb7709e5208>, <TBranchElement 'pfCand_fromPV' at 0x7fb7709e5908>, \"\n",
      " \"<TBranchElement 'pfCand_puppiWeight' at 0x7fb7709ef048>, <TBranchElement \"\n",
      " \"'pfCand_puppiWeightNoLep' at 0x7fb7709ef748>, <TBranch 'gen_match' at \"\n",
      " '0x7fb7709efe48>]')\n",
      "\n",
      "\n",
      "name                 | typename                 | interpretation                \n",
      "---------------------+--------------------------+-------------------------------\n",
      "run                  | uint32_t                 | AsDtype('>u4')\n",
      "lumi                 | uint32_t                 | AsDtype('>u4')\n",
      "evt                  | uint64_t                 | AsDtype('>u8')\n",
      "npv                  | int32_t                  | AsDtype('>i4')\n",
      "rho                  | float                    | AsDtype('>f4')\n",
      "tau_pt               | float                    | AsDtype('>f4')\n",
      "tau_eta              | float                    | AsDtype('>f4')\n",
      "tau_phi              | float                    | AsDtype('>f4')\n",
      "tau_mass             | float                    | AsDtype('>f4')\n",
      "tau_charge           | int32_t                  | AsDtype('>i4')\n",
      "tau_decayMode        | int32_t                  | AsDtype('>i4')\n",
      "tau_byDeepTau2017... | float                    | AsDtype('>f4')\n",
      "tau_byDeepTau2017... | uint16_t                 | AsDtype('>u2')\n",
      "tau_byDeepTau2017... | float                    | AsDtype('>f4')\n",
      "tau_byDeepTau2017... | uint16_t                 | AsDtype('>u2')\n",
      "tau_byDeepTau2017... | float                    | AsDtype('>f4')\n",
      "tau_byDeepTau2017... | uint16_t                 | AsDtype('>u2')\n",
      "jet_pt               | float                    | AsDtype('>f4')\n",
      "jet_eta              | float                    | AsDtype('>f4')\n",
      "jet_phi              | float                    | AsDtype('>f4')\n",
      "jet_mass             | float                    | AsDtype('>f4')\n",
      "jet_partonFlavour    | int32_t                  | AsDtype('>i4')\n",
      "jet_hadronFlavour    | int32_t                  | AsDtype('>i4')\n",
      "ele_pt               | std::vector<float>       | AsJagged(AsDtype('>f4'), he...\n",
      "ele_eta              | std::vector<float>       | AsJagged(AsDtype('>f4'), he...\n",
      "ele_phi              | std::vector<float>       | AsJagged(AsDtype('>f4'), he...\n",
      "ele_mass             | std::vector<float>       | AsJagged(AsDtype('>f4'), he...\n",
      "muon_pt              | std::vector<float>       | AsJagged(AsDtype('>f4'), he...\n",
      "muon_eta             | std::vector<float>       | AsJagged(AsDtype('>f4'), he...\n",
      "muon_phi             | std::vector<float>       | AsJagged(AsDtype('>f4'), he...\n",
      "muon_mass            | std::vector<float>       | AsJagged(AsDtype('>f4'), he...\n",
      "muon_type            | std::vector<uint32_t>    | AsJagged(AsDtype('>u4'), he...\n",
      "pfCand_pt            | std::vector<float>       | AsJagged(AsDtype('>f4'), he...\n",
      "pfCand_eta           | std::vector<float>       | AsJagged(AsDtype('>f4'), he...\n",
      "pfCand_phi           | std::vector<float>       | AsJagged(AsDtype('>f4'), he...\n",
      "pfCand_mass          | std::vector<float>       | AsJagged(AsDtype('>f4'), he...\n",
      "pfCand_charge        | std::vector<int32_t>     | AsJagged(AsDtype('>i4'), he...\n",
      "pfCand_tauIso        | std::vector<int32_t>     | AsJagged(AsDtype('>i4'), he...\n",
      "pfCand_tauSignal     | std::vector<int32_t>     | AsJagged(AsDtype('>i4'), he...\n",
      "pfCand_particleType  | std::vector<int32_t>     | AsJagged(AsDtype('>i4'), he...\n",
      "pfCand_fromPV        | std::vector<int32_t>     | AsJagged(AsDtype('>i4'), he...\n",
      "pfCand_puppiWeight   | std::vector<float>       | AsJagged(AsDtype('>f4'), he...\n",
      "pfCand_puppiWeigh... | std::vector<float>       | AsJagged(AsDtype('>f4'), he...\n",
      "gen_match            | int32_t                  | AsDtype('>i4')\n",
      "None\n"
     ]
    }
   ],
   "source": [
    "%matplotlib inline\n",
    "\n",
    "import uproot\n",
    "import glob\n",
    "import pprint\n",
    "import matplotlib.pyplot as plt\n",
    "\n",
    "\n",
    "pp = pprint.PrettyPrinter()\n",
    "files = glob.glob(\"/ceph/akhmet/forAndrewIsaac/prod_2018_v2_processed_v4\" + \"/**/*.root\", recursive=True)\n",
    "files = [file + ':taus' for file in files]\n",
    "pp.pprint(files)\n",
    "\n",
    "testfile = '/ceph/akhmet/forAndrewIsaac/prod_2018_v2_processed_v4/DYJetsToLL_M-50_jets.root:taus'\n",
    "ttree = uproot.open(testfile)\n",
    "\n",
    "test = ttree.keys(filter_name=\"/pfCand_/\")\n",
    "print(test)\n",
    "print(\"\")\n",
    "\n",
    "pp.pprint(f'keys: {ttree.keys()}')\n",
    "print(\"\")\n",
    "\n",
    "pp.pprint(f'values: {ttree.values()}')\n",
    "print(\"\")\n",
    "\n",
    "pp.pprint(ttree.show())\n",
    "pfCand_pt = ttree['pfCand_pt'].array()\n",
    "nNodes = [len(x) for x in pfCand_pt]\n",
    "nEdges = [x*(x-1) for x in nNodes]\n",
    "# run = ttree['run'].array()\n",
    "lumi = ttree['lumi'].array()\n",
    "# evt = ttree['evt'].array()\n",
    "# pfCand_eta = ttree['pfCand_eta'].array()\n",
    "# pfCand_phi = ttree['pfCand_phi'].array()\n",
    "\n"
   ]
  },
  {
   "cell_type": "code",
   "execution_count": 5,
   "metadata": {},
   "outputs": [
    {
     "name": "stdout",
     "output_type": "stream",
     "text": [
      "lumi: [98286, 98286, 98286, 98286, 98286]\n",
      "pfCand_pt: [[0.721, 0.924, 0.851, 0.614, 0.877, 0.573, ... 0.458, 0.199, 1.08, 0.414, 0.288]]\n",
      "graph count: 1328780\n",
      "Max node count: 350\n",
      "Min node count: 9\n",
      "Max edge count: 122150\n",
      "Min edge count: 72\n"
     ]
    }
   ],
   "source": [
    "a = 0\n",
    "b = 5\n",
    "\n",
    "print(f'lumi: {lumi[a:b]}')\n",
    "print(f'pfCand_pt: {pfCand_pt[a:b]}')\n",
    "\n",
    "print(f'graph count: {len(pfCand_pt)}')\n",
    "\n",
    "print(f'Max node count: {max(nNodes)}')\n",
    "print(f'Min node count: {min(nNodes)}')\n",
    "\n",
    "print(f'Max edge count: {max(nEdges)}')\n",
    "print(f'Min edge count: {min(nEdges)}')"
   ]
  },
  {
   "cell_type": "code",
   "execution_count": null,
   "metadata": {},
   "outputs": [],
   "source": [
    "plt.rcParams.update({'font.size': 16})\n",
    "\n",
    "plt.figure(figsize=(10,7))\n",
    "plt.hist(nNodes, bins=20)\n",
    "plt.xlabel(\"node count\")\n",
    "plt.ylabel(\"frequency\")\n",
    "plt.savefig(\"NodeCount.png\")\n",
    "plt.show()\n",
    "\n",
    "plt.figure(figsize=(10,7))\n",
    "plt.hist(nEdges, bins=20, range=(0,60000))\n",
    "plt.xlabel(\"edge count\")\n",
    "plt.ylabel(\"frequency\")\n",
    "plt.savefig(\"EdgeCount.png\")\n",
    "plt.show()"
   ]
  },
  {
   "cell_type": "code",
   "execution_count": null,
   "metadata": {},
   "outputs": [],
   "source": [
    "pfCand_puppiWeightNoLep = ttree['pfCand_puppiWeightNoLep'].array()"
   ]
  },
  {
   "cell_type": "code",
   "execution_count": null,
   "metadata": {},
   "outputs": [],
   "source": [
    "import awkward as ak\n",
    "\n",
    "plt.figure(figsize=(10,7))\n",
    "plt.hist(ak.flatten(pfCand_pt, axis=None), bins=100, range=(0, 50))\n",
    "plt.xlabel(\"pfCand_pt\")\n",
    "plt.ylabel(\"frequency\")\n",
    "plt.savefig(\"pfCand_pt_noCut.png\")\n",
    "plt.show()"
   ]
  },
  {
   "cell_type": "code",
   "execution_count": null,
   "metadata": {},
   "outputs": [],
   "source": [
    "print(pfCand_puppiWeightNoLep[0:5])\n",
    "for puppiWeights in pfCand_puppiWeightNoLep[0:5]:\n",
    "    for p in puppiWeights\n",
    "\n",
    "print(\"\\n\\n\")\n",
    "for pt in pfCand_pt[0:5]:\n",
    "    print(len(pt))"
   ]
  },
  {
   "cell_type": "code",
   "execution_count": 3,
   "metadata": {},
   "outputs": [
    {
     "name": "stdout",
     "output_type": "stream",
     "text": [
      "[2.74, -3.01, 2.95, -3.07, 2.93, -2.68, ... -3.13, 2.97, 3.04, 2.8, -2.57, 2.78]\n",
      "[2.18, 1.28, 1.63, 1.34, 1.14, 1.59, 1.26, ... 2.4, 1.51, 1.44, 1.25, 1.87, 1.67]\n",
      "[-0.276, -0.676, 0.107, -0.585, -0.439, ... -0.639, -1.19, -0.934, -0.882, -0.843]\n",
      "[0.78, -0.199, 0.231, 0.54, 0.049, 0.697, ... 0.96, 0.394, 1.04, 0.36, 0.515, 0.36]\n",
      "[-3.06, 1.85, -3.01, 2.69, -3.07, 2.53, 2.72, ... 2.56, 2.82, 2.77, 2.14, 3.08, 2.21]\n"
     ]
    }
   ],
   "source": [
    "pfCand_phi = ttree['pfCand_phi'].array()\n",
    "\n",
    "for phi in pfCand_phi[0:5]:\n",
    "    print(phi)"
   ]
  },
  {
   "cell_type": "code",
   "execution_count": 4,
   "metadata": {},
   "outputs": [
    {
     "data": {
      "image/png": "[encoded data removed]",
      "text/plain": [
       "<Figure size 720x504 with 1 Axes>"
      ]
     },
     "metadata": {
      "needs_background": "light"
     },
     "output_type": "display_data"
    }
   ],
   "source": [
    "import awkward as ak\n",
    "\n",
    "plt.figure(figsize=(10,7))\n",
    "plt.hist(ak.flatten(pfCand_phi, axis=None), bins=100)\n",
    "plt.xlabel(\"phi\")\n",
    "plt.ylabel(\"frequency\")\n",
    "plt.savefig(\"phi.png\")\n",
    "plt.show()"
   ]
  },
  {
   "cell_type": "code",
   "execution_count": 5,
   "metadata": {},
   "outputs": [
    {
     "data": {
      "image/png": "[encoded data removed]",
      "text/plain": [
       "<Figure size 720x504 with 1 Axes>"
      ]
     },
     "metadata": {
      "needs_background": "light"
     },
     "output_type": "display_data"
    }
   ],
   "source": [
    "tau_phi = ttree['tau_phi'].array()\n",
    "\n",
    "plt.figure(figsize=(10,7))\n",
    "plt.hist(tau_phi, bins=100)\n",
    "plt.xlabel(\"phi\")\n",
    "plt.ylabel(\"frequency\")\n",
    "plt.savefig(\"phi.png\")\n",
    "plt.show()"
   ]
  },
  {
   "cell_type": "code",
   "execution_count": null,
   "metadata": {},
   "outputs": [],
   "source": [
    "pfCand_pt_cut = []\n",
    "\n",
    "import time\n",
    "start = time.time()\n",
    "\n",
    "for i in range(len(pfCand_puppiWeightNoLep)):\n",
    "    pfCand_pt_cut.append([])\n",
    "    for j in range(len(pfCand_puppiWeightNoLep[i])):\n",
    "        if(pfCand_puppiWeightNoLep[i][j] > 0):\n",
    "            pfCand_pt_cut[i].append(pfCand_pt[j])\n",
    "            \n",
    "end = time.time()\n",
    "elapsed = end - start\n",
    "print(f'elapsed time. {elapsed} seconds')\n",
    "        \n",
    "nNodes_cut = [len(x) for x in pfCand_pt_cut]\n",
    "nEdges_cut = [x*(x-1) for x in nNodes_cut]"
   ]
  },
  {
   "cell_type": "code",
   "execution_count": null,
   "metadata": {},
   "outputs": [],
   "source": [
    "plt.figure(figsize=(10,7))\n",
    "plt.hist(nNodes_cut, bins=20)\n",
    "plt.xlabel(\"node count\")\n",
    "plt.ylabel(\"frequency\")\n",
    "plt.savefig(\"NodeCount_cut.png\")\n",
    "plt.show()\n",
    "\n",
    "plt.figure(figsize=(10,7))\n",
    "plt.hist(nEdges_cut, bins=20, range=(0,60000))\n",
    "plt.xlabel(\"edge count\")\n",
    "plt.ylabel(\"frequency\")\n",
    "plt.savefig(\"EdgeCount_cut.png\")\n",
    "plt.show()"
   ]
  }
 ],
 "metadata": {
  "interpreter": {
   "hash": "18e711687f31016629c64c84d23d27d9292aefc640ef90f9639fb07f22fea1b3"
  },
  "kernelspec": {
   "display_name": "Python 3",
   "language": "python",
   "name": "python3"
  },
  "language_info": {
   "codemirror_mode": {
    "name": "ipython",
    "version": 3
   },
   "file_extension": ".py",
   "mimetype": "text/x-python",
   "name": "python",
   "nbconvert_exporter": "python",
   "pygments_lexer": "ipython3",
   "version": "3.6.8"
  }
 },
 "nbformat": 4,
 "nbformat_minor": 2
}
