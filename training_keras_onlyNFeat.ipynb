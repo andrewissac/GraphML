{
 "cells": [
  {
   "cell_type": "code",
   "execution_count": 1,
   "metadata": {},
   "outputs": [
    {
     "name": "stderr",
     "output_type": "stream",
     "text": [
      "Using backend: pytorch\n"
     ]
    }
   ],
   "source": [
    "%matplotlib inline\n",
    "import dgl\n",
    "import glob\n",
    "import pprint\n",
    "import numpy as np\n",
    "import awkward as ak\n",
    "import networkx as nx\n",
    "import tensorflow as tf\n",
    "import matplotlib.pyplot as plt\n",
    "from sklearn.utils import shuffle\n",
    "from os import path\n",
    "from tqdm import tqdm\n",
    "from pathlib import Path\n",
    "from trainresults import TrainResults\n",
    "from train_eval_func import train, evaluate\n",
    "from tensorflow import keras\n",
    "from copy import deepcopy\n",
    "from dgl.data import DGLDataset\n",
    "from dgl.dataloading import GraphDataLoader\n",
    "from TauGraphDatasetInfo import TauGraphDatasetInfo\n",
    "from TauGraphDataset import TauGraphDataset, GetNodeFeatureVectors, GetEdgeFeatureVectors\n",
    "from TauGraphDataset import GetNeighborNodes, GetEdgeList, GetEdgeFeatureVectorsFromSourceNode, Graph2FlatZeropaddedList\n",
    "\n",
    "plt.rcParams.update({'font.size': 20})\n",
    "plt.rcParams['text.usetex'] = True\n",
    "lw = 2\n",
    "xyLabelFontSize = 20\n",
    "xLabelPad = 10\n",
    "yLabelPad = 15\n",
    "pp = pprint.PrettyPrinter()"
   ]
  },
  {
   "cell_type": "code",
   "execution_count": 2,
   "metadata": {},
   "outputs": [],
   "source": [
    "def getDatasetNames(datasetDir):\n",
    "    files = glob.glob(datasetDir + '/*.json', recursive=True)\n",
    "    files.sort()\n",
    "    datasetDirectories = [path.dirname(file) for file in files]\n",
    "    datasetnames = [path.normpath(dir).split(path.sep)[-1] for dir in datasetDirectories]\n",
    "    return datasetDirectories, datasetnames"
   ]
  },
  {
   "cell_type": "code",
   "execution_count": 3,
   "metadata": {},
   "outputs": [
    {
     "name": "stdout",
     "output_type": "stream",
     "text": [
      "['/ceph/aissac/ntuple_for_graphs/prod_2018_v2_processed_v5/trimmed_200000_and_cut_puppiWeightNoLep_greater_0_and_deltaR_smaller_0point5/Graphs_DYJetsToLL_M-50_genuineTaus_and_jets']\n",
      "['Graphs_DYJetsToLL_M-50_genuineTaus_and_jets']\n"
     ]
    }
   ],
   "source": [
    "datasetDir = '/ceph/aissac/ntuple_for_graphs/prod_2018_v2_processed_v5/trimmed_200000_and_cut_puppiWeightNoLep_greater_0_and_deltaR_smaller_0point5/Graphs_DYJetsToLL_M-50_genuineTaus_and_jets'\n",
    "datasetDirs, datasetNames = getDatasetNames(datasetDir)\n",
    "print(datasetDirs)\n",
    "print(datasetNames)"
   ]
  },
  {
   "cell_type": "code",
   "execution_count": 4,
   "metadata": {},
   "outputs": [
    {
     "name": "stdout",
     "output_type": "stream",
     "text": [
      "Done loading data from cached files.\n",
      "<TauGraphDataset.TauGraphDataset object at 0x7f4bbc1eba90>\n"
     ]
    }
   ],
   "source": [
    "dataset = TauGraphDataset(datasetNames[0], datasetDirs[0])\n",
    "print(dataset)"
   ]
  },
  {
   "cell_type": "code",
   "execution_count": 5,
   "metadata": {},
   "outputs": [
    {
     "name": "stdout",
     "output_type": "stream",
     "text": [
      "name: Graphs_DYJetsToLL_M-50_genuineTaus_and_jets,\n",
      " directory: /ceph/aissac/ntuple_for_graphs/prod_2018_v2_processed_v5/trimmed_200000_and_cut_puppiWeightNoLep_greater_0_and_deltaR_smaller_0point5/Graphs_DYJetsToLL_M-50_genuineTaus_and_jets\n",
      "Graph(num_nodes=25, num_edges=600,\n",
      "      ndata_schemes={'feat': Scheme(shape=(7,), dtype=torch.float64)}\n",
      "      edata_schemes={'feat': Scheme(shape=(3,), dtype=torch.float32)})\n",
      "label: 1\n",
      "graph classes: ['0', '1']\n",
      "dataset graph count: 200000\n",
      "nodeFeatKeys: ['pt', 'eta', 'phi', 'mass', 'charge', 'particleType', 'summand']\n",
      "edgeFeatKeys: ['deltaEta', 'deltaPhi', 'deltaR']\n",
      "graphFeatkeys: ['nodeCount']\n",
      "max node count: 81\n",
      "min node count: 2\n"
     ]
    }
   ],
   "source": [
    "print(f'name: {datasetNames[0]},\\n directory: {datasetDirs[0]}')\n",
    "graph, label = dataset[0]\n",
    "print(graph)\n",
    "print(f'label: {label}')\n",
    "print(f'graph classes: {dataset.graphClasses}')\n",
    "print(f'dataset graph count: {dataset.num_graphs}')\n",
    "print(f'nodeFeatKeys: {dataset.nodeFeatKeys}')\n",
    "print(f'edgeFeatKeys: {dataset.edgeFeatKeys}')\n",
    "print(f'graphFeatkeys: {dataset.graphFeatKeys}')\n",
    "print(f'max node count: {dataset.maxNodeCount}')\n",
    "print(f'min node count: {dataset.minNodeCount}')"
   ]
  },
  {
   "cell_type": "code",
   "execution_count": 6,
   "metadata": {},
   "outputs": [
    {
     "name": "stdout",
     "output_type": "stream",
     "text": [
      "Graph(num_nodes=25, num_edges=600,\n",
      "      ndata_schemes={'feat': Scheme(shape=(7,), dtype=torch.float64)}\n",
      "      edata_schemes={'feat': Scheme(shape=(3,), dtype=torch.float32)})\n",
      "nFeatDim: 7\n",
      "eFeatDim: 3\n",
      "maxNodeCount: 81\n",
      "\n",
      "node + edge features dim per Node (includes zero padding if nodecount<maxnodecount):\n",
      " nFeatDim + eFeatDim * (maxNodeCount-1) = 7 + 3 * 80 =  247\n",
      "The (maxNodeCount-1) comes from fully connected graphs without self-loops\n",
      "\n",
      "only node features dim per Node: nFeatDim=7\n",
      "\n",
      "node + edge features with zero padding to fill until maxNodeCount leads to inputsize: 20007\n",
      "check example: node + edge features list size: 20007\n",
      "\n",
      "only node features with zero padding to fill until maxNodeCount leads to inputsize: 567\n",
      "check example: only node features list size: 567\n"
     ]
    }
   ],
   "source": [
    "graphs, labels = dataset[:]\n",
    "g = graphs[0]\n",
    "nFeatDim = dataset.dim_nfeats\n",
    "eFeatDim = dataset.dim_efeats\n",
    "maxNodeCount = dataset.maxNodeCount\n",
    "print(g)\n",
    "print(f'nFeatDim: {nFeatDim}')\n",
    "print(f'eFeatDim: {eFeatDim}')\n",
    "print(f'maxNodeCount: {maxNodeCount}')\n",
    "print()\n",
    "\n",
    "nodeAndEdgeFeaturePaddedDim = nFeatDim + eFeatDim * (maxNodeCount - 1)\n",
    "print(f'node + edge features dim per Node (includes zero padding if nodecount<maxnodecount):\\n',\n",
    "      f'nFeatDim + eFeatDim * (maxNodeCount-1) = {nFeatDim} + {eFeatDim} * {maxNodeCount - 1} = ',\n",
    "      f'{nodeAndEdgeFeaturePaddedDim}')\n",
    "print(f'The (maxNodeCount-1) comes from fully connected graphs without self-loops')\n",
    "print()\n",
    "print(f'only node features dim per Node: nFeatDim={nFeatDim}')\n",
    "print()\n",
    "\n",
    "nodeAndEdgeFeaturePaddedDimInputSize = nodeAndEdgeFeaturePaddedDim * maxNodeCount\n",
    "nodeFeaturePaddedDimInputSize = nFeatDim * maxNodeCount\n",
    "print(f'node + edge features with zero padding to fill until maxNodeCount leads to inputsize: {nodeAndEdgeFeaturePaddedDimInputSize}')\n",
    "useEdgeFeat = True\n",
    "temp = np.array(Graph2FlatZeropaddedList(g, nFeatDim, eFeatDim, maxNodeCount, useEdgeFeat), dtype=np.float32)\n",
    "print(f'check example: node + edge features list size: {len(temp)}')\n",
    "print()\n",
    "print(f'only node features with zero padding to fill until maxNodeCount leads to inputsize: {nodeFeaturePaddedDimInputSize}')\n",
    "useEdgeFeat = False\n",
    "temp = np.array(Graph2FlatZeropaddedList(g, nFeatDim, eFeatDim, maxNodeCount, useEdgeFeat), dtype=np.float32)\n",
    "print(f'check example: only node features list size: {len(temp)}')"
   ]
  },
  {
   "cell_type": "code",
   "execution_count": 7,
   "metadata": {},
   "outputs": [],
   "source": [
    "def getInputData(dgldataset, useEdgeFeatures):\n",
    "    inputs = [] \n",
    "    graphs, labels = dgldataset[:]\n",
    "    maxNodeCount = dgldataset.maxNodeCount\n",
    "    nFeatDim = dgldataset.dim_nfeats\n",
    "    eFeatDim = dgldataset.dim_efeats\n",
    "    \n",
    "    import time\n",
    "    start = time.time()\n",
    "    it = 0\n",
    "    \n",
    "    for i in tqdm(range(len(graphs))):\n",
    "        inputs.append(Graph2FlatZeropaddedList(graphs[i], nFeatDim, eFeatDim, maxNodeCount, useEdgeFeatures))\n",
    "\n",
    "    # Stack all inputs_ vertically\n",
    "    print(type(inputs))\n",
    "    inputs = np.array(inputs, dtype=np.float32)\n",
    "    print(inputs)\n",
    "    print(type(inputs))\n",
    "    inputs = np.vstack(inputs)\n",
    "    print(inputs)\n",
    "    \n",
    "\n",
    "    # Stack all labels_ horizontally\n",
    "    labels = np.hstack(labels)\n",
    "\n",
    "    print(\"Input shape: \", inputs.shape)\n",
    "    print(\"Labels shape: \", labels.shape)\n",
    "\n",
    "    labels = tf.keras.utils.to_categorical(labels)\n",
    "    print(labels.shape)\n",
    "    print(labels[0])\n",
    "    end = time.time() - start\n",
    "    print(f'graphs to flattened zero padded list took {end:.2f} seconds ({end/60:.2f} minutes)')\n",
    "    return inputs, labels"
   ]
  },
  {
   "cell_type": "code",
   "execution_count": 8,
   "metadata": {},
   "outputs": [
    {
     "name": "stderr",
     "output_type": "stream",
     "text": [
      "100%|██████████| 200000/200000 [01:54<00:00, 1744.54it/s]\n"
     ]
    },
    {
     "name": "stdout",
     "output_type": "stream",
     "text": [
      "<class 'list'>\n",
      "[[ 0.6791992   1.238197   -0.6319463  ...  0.          0.\n",
      "   0.        ]\n",
      " [ 2.7011719  -0.5762505   2.2737963  ...  0.          0.\n",
      "   0.        ]\n",
      " [ 4.2695312  -0.781518    0.42511293 ...  0.          0.\n",
      "   0.        ]\n",
      " ...\n",
      " [ 0.66308594 -0.8608051   1.7206644  ...  0.          0.\n",
      "   0.        ]\n",
      " [ 1.4853516   1.7232581  -3.10292    ...  0.          0.\n",
      "   0.        ]\n",
      " [ 0.8852539   1.0530717  -2.2728148  ...  0.          0.\n",
      "   0.        ]]\n",
      "<class 'numpy.ndarray'>\n",
      "[[ 0.6791992   1.238197   -0.6319463  ...  0.          0.\n",
      "   0.        ]\n",
      " [ 2.7011719  -0.5762505   2.2737963  ...  0.          0.\n",
      "   0.        ]\n",
      " [ 4.2695312  -0.781518    0.42511293 ...  0.          0.\n",
      "   0.        ]\n",
      " ...\n",
      " [ 0.66308594 -0.8608051   1.7206644  ...  0.          0.\n",
      "   0.        ]\n",
      " [ 1.4853516   1.7232581  -3.10292    ...  0.          0.\n",
      "   0.        ]\n",
      " [ 0.8852539   1.0530717  -2.2728148  ...  0.          0.\n",
      "   0.        ]]\n",
      "Input shape:  (200000, 567)\n",
      "Labels shape:  (200000,)\n",
      "(200000, 2)\n",
      "[0. 1.]\n",
      "graphs to flattened zero padded list took 118.72 seconds (1.98 minutes)\n"
     ]
    }
   ],
   "source": [
    "inputs, labels = getInputData(dataset, False)"
   ]
  },
  {
   "cell_type": "code",
   "execution_count": 9,
   "metadata": {},
   "outputs": [],
   "source": [
    "def datagenerator(inputs, labels, batchsize):\n",
    "    while True:\n",
    "        start = 0\n",
    "        end = batchsize\n",
    "\n",
    "        while start  < len(inputs): \n",
    "            # load your images from numpy arrays or read from directory\n",
    "            x = inputs[start:end] \n",
    "            y = labels[start:end]\n",
    "            yield x, y\n",
    "\n",
    "            start += batchsize\n",
    "            end += batchsize"
   ]
  },
  {
   "cell_type": "code",
   "execution_count": 10,
   "metadata": {},
   "outputs": [
    {
     "name": "stdout",
     "output_type": "stream",
     "text": [
      "Model: \"KerasModel_NodeFeatOnly\"\n",
      "_________________________________________________________________\n",
      "Layer (type)                 Output Shape              Param #   \n",
      "=================================================================\n",
      "dense1 (Dense)               (None, 16)                9088      \n",
      "_________________________________________________________________\n",
      "dense2 (Dense)               (None, 16)                272       \n",
      "_________________________________________________________________\n",
      "output (Dense)               (None, 2)                 34        \n",
      "=================================================================\n",
      "Total params: 9,394\n",
      "Trainable params: 9,394\n",
      "Non-trainable params: 0\n",
      "_________________________________________________________________\n",
      "Model: \"KerasModel_NodeFeatOnly\"\n",
      "_________________________________________________________________\n",
      "Layer (type)                 Output Shape              Param #   \n",
      "=================================================================\n",
      "dense1 (Dense)               (None, 16)                9088      \n",
      "_________________________________________________________________\n",
      "dense2 (Dense)               (None, 16)                272       \n",
      "_________________________________________________________________\n",
      "output (Dense)               (None, 2)                 34        \n",
      "=================================================================\n",
      "Total params: 9,394\n",
      "Trainable params: 9,394\n",
      "Non-trainable params: 0\n",
      "_________________________________________________________________\n"
     ]
    }
   ],
   "source": [
    "from tensorflow import keras\n",
    "\n",
    "outputFolder = path.join(datasetDir, 'Output_Keras_NodeFeatOnly')\n",
    "Path(outputFolder).mkdir(parents=True, exist_ok=True)\n",
    "\n",
    "model = keras.Sequential(name=\"KerasModel_NodeFeatOnly\")\n",
    "inputDim = nFeatDim * maxNodeCount\n",
    "model.add(keras.layers.InputLayer(input_shape=(inputDim,), name=\"input\"))\n",
    "model.add(keras.layers.Dense(16, activation='relu', name=\"dense1\"))\n",
    "model.add(keras.layers.Dense(16, activation='relu', name=\"dense2\"))\n",
    "model.add(keras.layers.Dense(2, activation='softmax', name=\"output\"))\n",
    "model.summary()\n",
    "\n",
    "lossfunction = keras.losses.CategoricalCrossentropy()\n",
    "optimizer = keras.optimizers.Adam(learning_rate=0.001)\n",
    "earlystopping = keras.callbacks.EarlyStopping(monitor='val_loss', patience=5, verbose=1, min_delta=0.0005)\n",
    "modelcheckpoint = tf.keras.callbacks.ModelCheckpoint(filepath=path.join(outputFolder,'keras_nodeFeatOnly_bestmodel.h5'), monitor='val_loss', save_best_only=True, verbose=1)\n",
    "csvlogger = tf.keras.callbacks.CSVLogger(filename=path.join(outputFolder, 'results_keras_nodeFeatOnly_bestmodel.csv'), separator=',', append=False)\n",
    "callbacks = [earlystopping, modelcheckpoint, csvlogger]\n",
    "\n",
    "model.summary()\n",
    "model.compile(optimizer=optimizer, loss=lossfunction, metrics=['accuracy'])"
   ]
  },
  {
   "cell_type": "code",
   "execution_count": 11,
   "metadata": {},
   "outputs": [
    {
     "name": "stdout",
     "output_type": "stream",
     "text": [
      "train samples: 160000\n",
      "validation samples: 30000\n",
      "test samples: 10000\n"
     ]
    }
   ],
   "source": [
    "from sklearn.model_selection import train_test_split\n",
    "X_train, X_testAndVal, y_train, y_testAndVal = train_test_split(inputs, labels, test_size=0.2, shuffle=False)\n",
    "X_val, X_test, y_val, y_test = train_test_split(X_testAndVal, y_testAndVal, test_size=0.25, shuffle=False)\n",
    "print(f'train samples: {len(X_train)}')\n",
    "print(f'validation samples: {len(X_val)}')\n",
    "print(f'test samples: {len(X_test)}')"
   ]
  },
  {
   "cell_type": "code",
   "execution_count": 13,
   "metadata": {},
   "outputs": [
    {
     "name": "stdout",
     "output_type": "stream",
     "text": [
      "Epoch 1/100000\n",
      "156/156 [==============================] - 1s 5ms/step - loss: 0.3369 - accuracy: 0.8582 - val_loss: 0.2613 - val_accuracy: 0.8979\n",
      "\n",
      "Epoch 00001: val_loss improved from inf to 0.26132, saving model to /ceph/aissac/ntuple_for_graphs/prod_2018_v2_processed_v5/trimmed_200000_and_cut_puppiWeightNoLep_greater_0_and_deltaR_smaller_0point5/Graphs_DYJetsToLL_M-50_genuineTaus_and_jets/Output_Keras_NodeFeatOnly/keras_nodeFeatOnly_bestmodel.h5\n",
      "Epoch 2/100000\n",
      "156/156 [==============================] - 0s 3ms/step - loss: 0.2609 - accuracy: 0.8974 - val_loss: 0.2545 - val_accuracy: 0.9004\n",
      "\n",
      "Epoch 00002: val_loss improved from 0.26132 to 0.25449, saving model to /ceph/aissac/ntuple_for_graphs/prod_2018_v2_processed_v5/trimmed_200000_and_cut_puppiWeightNoLep_greater_0_and_deltaR_smaller_0point5/Graphs_DYJetsToLL_M-50_genuineTaus_and_jets/Output_Keras_NodeFeatOnly/keras_nodeFeatOnly_bestmodel.h5\n",
      "Epoch 3/100000\n",
      "156/156 [==============================] - 0s 3ms/step - loss: 0.2553 - accuracy: 0.8997 - val_loss: 0.2509 - val_accuracy: 0.9019\n",
      "\n",
      "Epoch 00003: val_loss improved from 0.25449 to 0.25090, saving model to /ceph/aissac/ntuple_for_graphs/prod_2018_v2_processed_v5/trimmed_200000_and_cut_puppiWeightNoLep_greater_0_and_deltaR_smaller_0point5/Graphs_DYJetsToLL_M-50_genuineTaus_and_jets/Output_Keras_NodeFeatOnly/keras_nodeFeatOnly_bestmodel.h5\n",
      "Epoch 4/100000\n",
      "156/156 [==============================] - 0s 3ms/step - loss: 0.2519 - accuracy: 0.9010 - val_loss: 0.2475 - val_accuracy: 0.9026\n",
      "\n",
      "Epoch 00004: val_loss improved from 0.25090 to 0.24746, saving model to /ceph/aissac/ntuple_for_graphs/prod_2018_v2_processed_v5/trimmed_200000_and_cut_puppiWeightNoLep_greater_0_and_deltaR_smaller_0point5/Graphs_DYJetsToLL_M-50_genuineTaus_and_jets/Output_Keras_NodeFeatOnly/keras_nodeFeatOnly_bestmodel.h5\n",
      "Epoch 5/100000\n",
      "156/156 [==============================] - 0s 3ms/step - loss: 0.2486 - accuracy: 0.9025 - val_loss: 0.2447 - val_accuracy: 0.9039\n",
      "\n",
      "Epoch 00005: val_loss improved from 0.24746 to 0.24466, saving model to /ceph/aissac/ntuple_for_graphs/prod_2018_v2_processed_v5/trimmed_200000_and_cut_puppiWeightNoLep_greater_0_and_deltaR_smaller_0point5/Graphs_DYJetsToLL_M-50_genuineTaus_and_jets/Output_Keras_NodeFeatOnly/keras_nodeFeatOnly_bestmodel.h5\n",
      "Epoch 6/100000\n",
      "156/156 [==============================] - 0s 3ms/step - loss: 0.2456 - accuracy: 0.9038 - val_loss: 0.2425 - val_accuracy: 0.9056\n",
      "\n",
      "Epoch 00006: val_loss improved from 0.24466 to 0.24249, saving model to /ceph/aissac/ntuple_for_graphs/prod_2018_v2_processed_v5/trimmed_200000_and_cut_puppiWeightNoLep_greater_0_and_deltaR_smaller_0point5/Graphs_DYJetsToLL_M-50_genuineTaus_and_jets/Output_Keras_NodeFeatOnly/keras_nodeFeatOnly_bestmodel.h5\n",
      "Epoch 7/100000\n",
      "156/156 [==============================] - 0s 3ms/step - loss: 0.2434 - accuracy: 0.9049 - val_loss: 0.2407 - val_accuracy: 0.9064\n",
      "\n",
      "Epoch 00007: val_loss improved from 0.24249 to 0.24070, saving model to /ceph/aissac/ntuple_for_graphs/prod_2018_v2_processed_v5/trimmed_200000_and_cut_puppiWeightNoLep_greater_0_and_deltaR_smaller_0point5/Graphs_DYJetsToLL_M-50_genuineTaus_and_jets/Output_Keras_NodeFeatOnly/keras_nodeFeatOnly_bestmodel.h5\n",
      "Epoch 8/100000\n",
      "156/156 [==============================] - 0s 3ms/step - loss: 0.2413 - accuracy: 0.9056 - val_loss: 0.2390 - val_accuracy: 0.9074\n",
      "\n",
      "Epoch 00008: val_loss improved from 0.24070 to 0.23902, saving model to /ceph/aissac/ntuple_for_graphs/prod_2018_v2_processed_v5/trimmed_200000_and_cut_puppiWeightNoLep_greater_0_and_deltaR_smaller_0point5/Graphs_DYJetsToLL_M-50_genuineTaus_and_jets/Output_Keras_NodeFeatOnly/keras_nodeFeatOnly_bestmodel.h5\n",
      "Epoch 9/100000\n",
      "156/156 [==============================] - 0s 3ms/step - loss: 0.2401 - accuracy: 0.9059 - val_loss: 0.2383 - val_accuracy: 0.9075\n",
      "\n",
      "Epoch 00009: val_loss improved from 0.23902 to 0.23829, saving model to /ceph/aissac/ntuple_for_graphs/prod_2018_v2_processed_v5/trimmed_200000_and_cut_puppiWeightNoLep_greater_0_and_deltaR_smaller_0point5/Graphs_DYJetsToLL_M-50_genuineTaus_and_jets/Output_Keras_NodeFeatOnly/keras_nodeFeatOnly_bestmodel.h5\n",
      "Epoch 10/100000\n",
      "156/156 [==============================] - 0s 3ms/step - loss: 0.2388 - accuracy: 0.9064 - val_loss: 0.2379 - val_accuracy: 0.9082\n",
      "\n",
      "Epoch 00010: val_loss improved from 0.23829 to 0.23791, saving model to /ceph/aissac/ntuple_for_graphs/prod_2018_v2_processed_v5/trimmed_200000_and_cut_puppiWeightNoLep_greater_0_and_deltaR_smaller_0point5/Graphs_DYJetsToLL_M-50_genuineTaus_and_jets/Output_Keras_NodeFeatOnly/keras_nodeFeatOnly_bestmodel.h5\n",
      "Epoch 11/100000\n",
      "156/156 [==============================] - 0s 3ms/step - loss: 0.2378 - accuracy: 0.9068 - val_loss: 0.2376 - val_accuracy: 0.9078\n",
      "\n",
      "Epoch 00011: val_loss improved from 0.23791 to 0.23759, saving model to /ceph/aissac/ntuple_for_graphs/prod_2018_v2_processed_v5/trimmed_200000_and_cut_puppiWeightNoLep_greater_0_and_deltaR_smaller_0point5/Graphs_DYJetsToLL_M-50_genuineTaus_and_jets/Output_Keras_NodeFeatOnly/keras_nodeFeatOnly_bestmodel.h5\n",
      "Epoch 12/100000\n",
      "156/156 [==============================] - 0s 3ms/step - loss: 0.2368 - accuracy: 0.9074 - val_loss: 0.2377 - val_accuracy: 0.9080\n",
      "\n",
      "Epoch 00012: val_loss did not improve from 0.23759\n",
      "Epoch 13/100000\n",
      "156/156 [==============================] - 0s 3ms/step - loss: 0.2361 - accuracy: 0.9076 - val_loss: 0.2370 - val_accuracy: 0.9084\n",
      "\n",
      "Epoch 00013: val_loss improved from 0.23759 to 0.23702, saving model to /ceph/aissac/ntuple_for_graphs/prod_2018_v2_processed_v5/trimmed_200000_and_cut_puppiWeightNoLep_greater_0_and_deltaR_smaller_0point5/Graphs_DYJetsToLL_M-50_genuineTaus_and_jets/Output_Keras_NodeFeatOnly/keras_nodeFeatOnly_bestmodel.h5\n",
      "Epoch 14/100000\n",
      "156/156 [==============================] - 0s 3ms/step - loss: 0.2354 - accuracy: 0.9077 - val_loss: 0.2359 - val_accuracy: 0.9096\n",
      "\n",
      "Epoch 00014: val_loss improved from 0.23702 to 0.23593, saving model to /ceph/aissac/ntuple_for_graphs/prod_2018_v2_processed_v5/trimmed_200000_and_cut_puppiWeightNoLep_greater_0_and_deltaR_smaller_0point5/Graphs_DYJetsToLL_M-50_genuineTaus_and_jets/Output_Keras_NodeFeatOnly/keras_nodeFeatOnly_bestmodel.h5\n",
      "Epoch 15/100000\n",
      "156/156 [==============================] - 0s 3ms/step - loss: 0.2348 - accuracy: 0.9079 - val_loss: 0.2352 - val_accuracy: 0.9094\n",
      "\n",
      "Epoch 00015: val_loss improved from 0.23593 to 0.23517, saving model to /ceph/aissac/ntuple_for_graphs/prod_2018_v2_processed_v5/trimmed_200000_and_cut_puppiWeightNoLep_greater_0_and_deltaR_smaller_0point5/Graphs_DYJetsToLL_M-50_genuineTaus_and_jets/Output_Keras_NodeFeatOnly/keras_nodeFeatOnly_bestmodel.h5\n",
      "Epoch 16/100000\n",
      "156/156 [==============================] - 1s 3ms/step - loss: 0.2345 - accuracy: 0.9080 - val_loss: 0.2345 - val_accuracy: 0.9100\n",
      "\n",
      "Epoch 00016: val_loss improved from 0.23517 to 0.23445, saving model to /ceph/aissac/ntuple_for_graphs/prod_2018_v2_processed_v5/trimmed_200000_and_cut_puppiWeightNoLep_greater_0_and_deltaR_smaller_0point5/Graphs_DYJetsToLL_M-50_genuineTaus_and_jets/Output_Keras_NodeFeatOnly/keras_nodeFeatOnly_bestmodel.h5\n",
      "Epoch 17/100000\n",
      "156/156 [==============================] - 1s 3ms/step - loss: 0.2334 - accuracy: 0.9082 - val_loss: 0.2343 - val_accuracy: 0.9094\n",
      "\n",
      "Epoch 00017: val_loss improved from 0.23445 to 0.23432, saving model to /ceph/aissac/ntuple_for_graphs/prod_2018_v2_processed_v5/trimmed_200000_and_cut_puppiWeightNoLep_greater_0_and_deltaR_smaller_0point5/Graphs_DYJetsToLL_M-50_genuineTaus_and_jets/Output_Keras_NodeFeatOnly/keras_nodeFeatOnly_bestmodel.h5\n",
      "Epoch 18/100000\n",
      "156/156 [==============================] - 1s 4ms/step - loss: 0.2333 - accuracy: 0.9082 - val_loss: 0.2339 - val_accuracy: 0.9093\n",
      "\n",
      "Epoch 00018: val_loss improved from 0.23432 to 0.23391, saving model to /ceph/aissac/ntuple_for_graphs/prod_2018_v2_processed_v5/trimmed_200000_and_cut_puppiWeightNoLep_greater_0_and_deltaR_smaller_0point5/Graphs_DYJetsToLL_M-50_genuineTaus_and_jets/Output_Keras_NodeFeatOnly/keras_nodeFeatOnly_bestmodel.h5\n",
      "Epoch 19/100000\n",
      "156/156 [==============================] - 0s 3ms/step - loss: 0.2326 - accuracy: 0.9083 - val_loss: 0.2336 - val_accuracy: 0.9093\n",
      "\n",
      "Epoch 00019: val_loss improved from 0.23391 to 0.23355, saving model to /ceph/aissac/ntuple_for_graphs/prod_2018_v2_processed_v5/trimmed_200000_and_cut_puppiWeightNoLep_greater_0_and_deltaR_smaller_0point5/Graphs_DYJetsToLL_M-50_genuineTaus_and_jets/Output_Keras_NodeFeatOnly/keras_nodeFeatOnly_bestmodel.h5\n"
     ]
    },
    {
     "name": "stdout",
     "output_type": "stream",
     "text": [
      "Epoch 20/100000\n",
      "156/156 [==============================] - 0s 3ms/step - loss: 0.2321 - accuracy: 0.9086 - val_loss: 0.2332 - val_accuracy: 0.9096\n",
      "\n",
      "Epoch 00020: val_loss improved from 0.23355 to 0.23324, saving model to /ceph/aissac/ntuple_for_graphs/prod_2018_v2_processed_v5/trimmed_200000_and_cut_puppiWeightNoLep_greater_0_and_deltaR_smaller_0point5/Graphs_DYJetsToLL_M-50_genuineTaus_and_jets/Output_Keras_NodeFeatOnly/keras_nodeFeatOnly_bestmodel.h5\n",
      "Epoch 21/100000\n",
      "156/156 [==============================] - 0s 3ms/step - loss: 0.2314 - accuracy: 0.9088 - val_loss: 0.2329 - val_accuracy: 0.9096\n",
      "\n",
      "Epoch 00021: val_loss improved from 0.23324 to 0.23291, saving model to /ceph/aissac/ntuple_for_graphs/prod_2018_v2_processed_v5/trimmed_200000_and_cut_puppiWeightNoLep_greater_0_and_deltaR_smaller_0point5/Graphs_DYJetsToLL_M-50_genuineTaus_and_jets/Output_Keras_NodeFeatOnly/keras_nodeFeatOnly_bestmodel.h5\n",
      "Epoch 22/100000\n",
      "156/156 [==============================] - 0s 3ms/step - loss: 0.2311 - accuracy: 0.9090 - val_loss: 0.2326 - val_accuracy: 0.9097\n",
      "\n",
      "Epoch 00022: val_loss improved from 0.23291 to 0.23260, saving model to /ceph/aissac/ntuple_for_graphs/prod_2018_v2_processed_v5/trimmed_200000_and_cut_puppiWeightNoLep_greater_0_and_deltaR_smaller_0point5/Graphs_DYJetsToLL_M-50_genuineTaus_and_jets/Output_Keras_NodeFeatOnly/keras_nodeFeatOnly_bestmodel.h5\n",
      "Epoch 23/100000\n",
      "156/156 [==============================] - 0s 3ms/step - loss: 0.2306 - accuracy: 0.9094 - val_loss: 0.2322 - val_accuracy: 0.9098\n",
      "\n",
      "Epoch 00023: val_loss improved from 0.23260 to 0.23222, saving model to /ceph/aissac/ntuple_for_graphs/prod_2018_v2_processed_v5/trimmed_200000_and_cut_puppiWeightNoLep_greater_0_and_deltaR_smaller_0point5/Graphs_DYJetsToLL_M-50_genuineTaus_and_jets/Output_Keras_NodeFeatOnly/keras_nodeFeatOnly_bestmodel.h5\n",
      "Epoch 24/100000\n",
      "156/156 [==============================] - 0s 3ms/step - loss: 0.2302 - accuracy: 0.9094 - val_loss: 0.2318 - val_accuracy: 0.9101\n",
      "\n",
      "Epoch 00024: val_loss improved from 0.23222 to 0.23177, saving model to /ceph/aissac/ntuple_for_graphs/prod_2018_v2_processed_v5/trimmed_200000_and_cut_puppiWeightNoLep_greater_0_and_deltaR_smaller_0point5/Graphs_DYJetsToLL_M-50_genuineTaus_and_jets/Output_Keras_NodeFeatOnly/keras_nodeFeatOnly_bestmodel.h5\n",
      "Epoch 25/100000\n",
      "156/156 [==============================] - 0s 3ms/step - loss: 0.2295 - accuracy: 0.9100 - val_loss: 0.2315 - val_accuracy: 0.9105\n",
      "\n",
      "Epoch 00025: val_loss improved from 0.23177 to 0.23149, saving model to /ceph/aissac/ntuple_for_graphs/prod_2018_v2_processed_v5/trimmed_200000_and_cut_puppiWeightNoLep_greater_0_and_deltaR_smaller_0point5/Graphs_DYJetsToLL_M-50_genuineTaus_and_jets/Output_Keras_NodeFeatOnly/keras_nodeFeatOnly_bestmodel.h5\n",
      "Epoch 26/100000\n",
      "156/156 [==============================] - 0s 3ms/step - loss: 0.2294 - accuracy: 0.9102 - val_loss: 0.2314 - val_accuracy: 0.9109\n",
      "\n",
      "Epoch 00026: val_loss improved from 0.23149 to 0.23143, saving model to /ceph/aissac/ntuple_for_graphs/prod_2018_v2_processed_v5/trimmed_200000_and_cut_puppiWeightNoLep_greater_0_and_deltaR_smaller_0point5/Graphs_DYJetsToLL_M-50_genuineTaus_and_jets/Output_Keras_NodeFeatOnly/keras_nodeFeatOnly_bestmodel.h5\n",
      "Epoch 27/100000\n",
      "156/156 [==============================] - 0s 3ms/step - loss: 0.2288 - accuracy: 0.9105 - val_loss: 0.2310 - val_accuracy: 0.9109\n",
      "\n",
      "Epoch 00027: val_loss improved from 0.23143 to 0.23095, saving model to /ceph/aissac/ntuple_for_graphs/prod_2018_v2_processed_v5/trimmed_200000_and_cut_puppiWeightNoLep_greater_0_and_deltaR_smaller_0point5/Graphs_DYJetsToLL_M-50_genuineTaus_and_jets/Output_Keras_NodeFeatOnly/keras_nodeFeatOnly_bestmodel.h5\n",
      "Epoch 28/100000\n",
      "156/156 [==============================] - 0s 3ms/step - loss: 0.2282 - accuracy: 0.9106 - val_loss: 0.2308 - val_accuracy: 0.9106\n",
      "\n",
      "Epoch 00028: val_loss improved from 0.23095 to 0.23085, saving model to /ceph/aissac/ntuple_for_graphs/prod_2018_v2_processed_v5/trimmed_200000_and_cut_puppiWeightNoLep_greater_0_and_deltaR_smaller_0point5/Graphs_DYJetsToLL_M-50_genuineTaus_and_jets/Output_Keras_NodeFeatOnly/keras_nodeFeatOnly_bestmodel.h5\n",
      "Epoch 29/100000\n",
      "156/156 [==============================] - 1s 4ms/step - loss: 0.2278 - accuracy: 0.9107 - val_loss: 0.2309 - val_accuracy: 0.9112\n",
      "\n",
      "Epoch 00029: val_loss did not improve from 0.23085\n",
      "Epoch 30/100000\n",
      "156/156 [==============================] - 1s 3ms/step - loss: 0.2272 - accuracy: 0.9110 - val_loss: 0.2305 - val_accuracy: 0.9116\n",
      "\n",
      "Epoch 00030: val_loss improved from 0.23085 to 0.23048, saving model to /ceph/aissac/ntuple_for_graphs/prod_2018_v2_processed_v5/trimmed_200000_and_cut_puppiWeightNoLep_greater_0_and_deltaR_smaller_0point5/Graphs_DYJetsToLL_M-50_genuineTaus_and_jets/Output_Keras_NodeFeatOnly/keras_nodeFeatOnly_bestmodel.h5\n",
      "Epoch 31/100000\n",
      "156/156 [==============================] - 0s 3ms/step - loss: 0.2265 - accuracy: 0.9111 - val_loss: 0.2303 - val_accuracy: 0.9113\n",
      "\n",
      "Epoch 00031: val_loss improved from 0.23048 to 0.23026, saving model to /ceph/aissac/ntuple_for_graphs/prod_2018_v2_processed_v5/trimmed_200000_and_cut_puppiWeightNoLep_greater_0_and_deltaR_smaller_0point5/Graphs_DYJetsToLL_M-50_genuineTaus_and_jets/Output_Keras_NodeFeatOnly/keras_nodeFeatOnly_bestmodel.h5\n",
      "Epoch 32/100000\n",
      "156/156 [==============================] - 0s 3ms/step - loss: 0.2262 - accuracy: 0.9112 - val_loss: 0.2294 - val_accuracy: 0.9110\n",
      "\n",
      "Epoch 00032: val_loss improved from 0.23026 to 0.22941, saving model to /ceph/aissac/ntuple_for_graphs/prod_2018_v2_processed_v5/trimmed_200000_and_cut_puppiWeightNoLep_greater_0_and_deltaR_smaller_0point5/Graphs_DYJetsToLL_M-50_genuineTaus_and_jets/Output_Keras_NodeFeatOnly/keras_nodeFeatOnly_bestmodel.h5\n",
      "Epoch 33/100000\n",
      "156/156 [==============================] - 0s 3ms/step - loss: 0.2260 - accuracy: 0.9113 - val_loss: 0.2291 - val_accuracy: 0.9104\n",
      "\n",
      "Epoch 00033: val_loss improved from 0.22941 to 0.22913, saving model to /ceph/aissac/ntuple_for_graphs/prod_2018_v2_processed_v5/trimmed_200000_and_cut_puppiWeightNoLep_greater_0_and_deltaR_smaller_0point5/Graphs_DYJetsToLL_M-50_genuineTaus_and_jets/Output_Keras_NodeFeatOnly/keras_nodeFeatOnly_bestmodel.h5\n",
      "Epoch 34/100000\n",
      "156/156 [==============================] - 1s 3ms/step - loss: 0.2254 - accuracy: 0.9114 - val_loss: 0.2288 - val_accuracy: 0.9105\n",
      "\n",
      "Epoch 00034: val_loss improved from 0.22913 to 0.22883, saving model to /ceph/aissac/ntuple_for_graphs/prod_2018_v2_processed_v5/trimmed_200000_and_cut_puppiWeightNoLep_greater_0_and_deltaR_smaller_0point5/Graphs_DYJetsToLL_M-50_genuineTaus_and_jets/Output_Keras_NodeFeatOnly/keras_nodeFeatOnly_bestmodel.h5\n",
      "Epoch 35/100000\n",
      "156/156 [==============================] - 1s 3ms/step - loss: 0.2249 - accuracy: 0.9116 - val_loss: 0.2286 - val_accuracy: 0.9107\n",
      "\n",
      "Epoch 00035: val_loss improved from 0.22883 to 0.22859, saving model to /ceph/aissac/ntuple_for_graphs/prod_2018_v2_processed_v5/trimmed_200000_and_cut_puppiWeightNoLep_greater_0_and_deltaR_smaller_0point5/Graphs_DYJetsToLL_M-50_genuineTaus_and_jets/Output_Keras_NodeFeatOnly/keras_nodeFeatOnly_bestmodel.h5\n",
      "Epoch 36/100000\n",
      "156/156 [==============================] - 0s 3ms/step - loss: 0.2246 - accuracy: 0.9116 - val_loss: 0.2282 - val_accuracy: 0.9103\n",
      "\n",
      "Epoch 00036: val_loss improved from 0.22859 to 0.22816, saving model to /ceph/aissac/ntuple_for_graphs/prod_2018_v2_processed_v5/trimmed_200000_and_cut_puppiWeightNoLep_greater_0_and_deltaR_smaller_0point5/Graphs_DYJetsToLL_M-50_genuineTaus_and_jets/Output_Keras_NodeFeatOnly/keras_nodeFeatOnly_bestmodel.h5\n",
      "Epoch 37/100000\n",
      "156/156 [==============================] - 0s 3ms/step - loss: 0.2243 - accuracy: 0.9116 - val_loss: 0.2276 - val_accuracy: 0.9105\n",
      "\n",
      "Epoch 00037: val_loss improved from 0.22816 to 0.22763, saving model to /ceph/aissac/ntuple_for_graphs/prod_2018_v2_processed_v5/trimmed_200000_and_cut_puppiWeightNoLep_greater_0_and_deltaR_smaller_0point5/Graphs_DYJetsToLL_M-50_genuineTaus_and_jets/Output_Keras_NodeFeatOnly/keras_nodeFeatOnly_bestmodel.h5\n",
      "Epoch 38/100000\n",
      "156/156 [==============================] - 0s 3ms/step - loss: 0.2240 - accuracy: 0.9118 - val_loss: 0.2271 - val_accuracy: 0.9111\n",
      "\n",
      "Epoch 00038: val_loss improved from 0.22763 to 0.22715, saving model to /ceph/aissac/ntuple_for_graphs/prod_2018_v2_processed_v5/trimmed_200000_and_cut_puppiWeightNoLep_greater_0_and_deltaR_smaller_0point5/Graphs_DYJetsToLL_M-50_genuineTaus_and_jets/Output_Keras_NodeFeatOnly/keras_nodeFeatOnly_bestmodel.h5\n"
     ]
    },
    {
     "name": "stdout",
     "output_type": "stream",
     "text": [
      "Epoch 39/100000\n",
      "156/156 [==============================] - 1s 3ms/step - loss: 0.2238 - accuracy: 0.9120 - val_loss: 0.2268 - val_accuracy: 0.9115\n",
      "\n",
      "Epoch 00039: val_loss improved from 0.22715 to 0.22680, saving model to /ceph/aissac/ntuple_for_graphs/prod_2018_v2_processed_v5/trimmed_200000_and_cut_puppiWeightNoLep_greater_0_and_deltaR_smaller_0point5/Graphs_DYJetsToLL_M-50_genuineTaus_and_jets/Output_Keras_NodeFeatOnly/keras_nodeFeatOnly_bestmodel.h5\n",
      "Epoch 40/100000\n",
      "156/156 [==============================] - 0s 3ms/step - loss: 0.2234 - accuracy: 0.9121 - val_loss: 0.2269 - val_accuracy: 0.9124\n",
      "\n",
      "Epoch 00040: val_loss did not improve from 0.22680\n",
      "Epoch 41/100000\n",
      "156/156 [==============================] - 0s 3ms/step - loss: 0.2234 - accuracy: 0.9119 - val_loss: 0.2272 - val_accuracy: 0.9125\n",
      "\n",
      "Epoch 00041: val_loss did not improve from 0.22680\n",
      "Epoch 42/100000\n",
      "156/156 [==============================] - 0s 3ms/step - loss: 0.2230 - accuracy: 0.9121 - val_loss: 0.2274 - val_accuracy: 0.9123\n",
      "\n",
      "Epoch 00042: val_loss did not improve from 0.22680\n",
      "Epoch 43/100000\n",
      "156/156 [==============================] - 0s 3ms/step - loss: 0.2226 - accuracy: 0.9124 - val_loss: 0.2271 - val_accuracy: 0.9122\n",
      "\n",
      "Epoch 00043: val_loss did not improve from 0.22680\n",
      "Epoch 44/100000\n",
      "156/156 [==============================] - 0s 3ms/step - loss: 0.2224 - accuracy: 0.9127 - val_loss: 0.2269 - val_accuracy: 0.9125\n",
      "\n",
      "Epoch 00044: val_loss did not improve from 0.22680\n",
      "Epoch 00044: early stopping\n"
     ]
    }
   ],
   "source": [
    "batchsize=1024\n",
    "history = model.fit(\n",
    "    x = datagenerator(X_train, y_train, batchsize=batchsize),\n",
    "    validation_data = datagenerator(X_val, y_val,batchsize=batchsize),\n",
    "    steps_per_epoch = len(X_train)//batchsize,\n",
    "    validation_steps = len(X_val)//batchsize,\n",
    "    shuffle=False, # at creation from rootfiles -> graphs already shuffled dataset\n",
    "    epochs = 100000, # doesnt matter, since we use early stopping\n",
    "    callbacks = callbacks\n",
    ")"
   ]
  },
  {
   "cell_type": "code",
   "execution_count": 14,
   "metadata": {},
   "outputs": [],
   "source": [
    "#outputFolder = path.join(datasetDir, 'Output_Keras_NodeFeatOnly')\n",
    "\n",
    "#model = keras.models.load_model(path.join(outputFolder, 'keras_nodeFeatOnly_bestmodel.h5'))"
   ]
  },
  {
   "cell_type": "code",
   "execution_count": 17,
   "metadata": {},
   "outputs": [
    {
     "name": "stdout",
     "output_type": "stream",
     "text": [
      "\n",
      "\n",
      "{'loss': [0.336916983127594, 0.2609316110610962, 0.25526612997055054, 0.2519134283065796, 0.2485782355070114, 0.24558191001415253, 0.24336715042591095, 0.24134255945682526, 0.24007532000541687, 0.23879528045654297, 0.2377728521823883, 0.23682227730751038, 0.2361207902431488, 0.2354467213153839, 0.23480720818042755, 0.23446500301361084, 0.23343577980995178, 0.2333049178123474, 0.2325849086046219, 0.23209257423877716, 0.23143671452999115, 0.23110271990299225, 0.23060160875320435, 0.2301740199327469, 0.2295147180557251, 0.22935308516025543, 0.22883345186710358, 0.2282208949327469, 0.22784999012947083, 0.2271515280008316, 0.22651547193527222, 0.22623543441295624, 0.22599050402641296, 0.22544150054454803, 0.22486501932144165, 0.22455629706382751, 0.22432594001293182, 0.22400401532649994, 0.22382132709026337, 0.2234155237674713, 0.2234043926000595, 0.22303204238414764, 0.22259961068630219, 0.22239162027835846], 'accuracy': [0.8582043647766113, 0.8973933458328247, 0.8997207283973694, 0.9010102152824402, 0.9024569988250732, 0.9037905335426331, 0.9049416184425354, 0.9056461453437805, 0.9059040546417236, 0.9064323902130127, 0.9068161249160767, 0.9073570966720581, 0.9076024293899536, 0.9076967835426331, 0.9078665971755981, 0.9079546332359314, 0.9081622362136841, 0.9082062840461731, 0.9083446264266968, 0.9086214303970337, 0.9088101387023926, 0.9089736938476562, 0.9093825221061707, 0.909395158290863, 0.9100367426872253, 0.9101688265800476, 0.910514771938324, 0.9105777144432068, 0.9107412695884705, 0.9110431671142578, 0.9111249446868896, 0.9112256169319153, 0.9112696051597595, 0.9114205837249756, 0.9115904569625854, 0.9116092920303345, 0.9116470217704773, 0.9117854237556458, 0.9119930267333984, 0.9121313691139221, 0.9119112491607666, 0.9121313691139221, 0.9124395847320557, 0.9126974940299988], 'val_loss': [0.26132136583328247, 0.2544947564601898, 0.25089746713638306, 0.24746207892894745, 0.24466094374656677, 0.24248826503753662, 0.24069538712501526, 0.23901771008968353, 0.23829224705696106, 0.23790523409843445, 0.23759131133556366, 0.23772376775741577, 0.23701763153076172, 0.23592588305473328, 0.2351708710193634, 0.23445209860801697, 0.23432140052318573, 0.23390789330005646, 0.23355425894260406, 0.23324379324913025, 0.2329101860523224, 0.23260098695755005, 0.23221875727176666, 0.23176631331443787, 0.23148594796657562, 0.2314314991235733, 0.23095227777957916, 0.2308492511510849, 0.23087576031684875, 0.23047809302806854, 0.23025578260421753, 0.22940781712532043, 0.2291339933872223, 0.22882895171642303, 0.22858521342277527, 0.22815673053264618, 0.22762711346149445, 0.2271454632282257, 0.22679530084133148, 0.2269311100244522, 0.22724613547325134, 0.22735096514225006, 0.2271229326725006, 0.22688625752925873], 'val_accuracy': [0.8978650569915771, 0.9003569483757019, 0.9018722772598267, 0.9025794863700867, 0.903926432132721, 0.905610203742981, 0.9063847064971924, 0.9073949456214905, 0.9074622988700867, 0.9081694483757019, 0.907832682132721, 0.9080010652542114, 0.9084388613700867, 0.909550130367279, 0.9094491004943848, 0.9099541902542114, 0.9094491004943848, 0.9093143939971924, 0.9093480706214905, 0.9095838069915771, 0.9095838069915771, 0.9097184538841248, 0.909819483757019, 0.9101225733757019, 0.910526692867279, 0.9108970761299133, 0.9108633995056152, 0.9106277227401733, 0.9111664891242981, 0.9116379022598267, 0.9113348722457886, 0.9110317826271057, 0.9104256629943848, 0.910526692867279, 0.9106950163841248, 0.9103246331214905, 0.9104593396186829, 0.9110654592514038, 0.911469578742981, 0.9123787879943848, 0.912479817867279, 0.9122777581214905, 0.9122104048728943, 0.912479817867279]}\n",
      "5000/5000 [==============================] - 8s 2ms/step - loss: 0.2211 - accuracy: 0.9134\n",
      "313/313 [==============================] - 1s 2ms/step - loss: 0.2383 - accuracy: 0.9099\n",
      "Train: 0.913, Test: 0.910\n"
     ]
    },
    {
     "data": {
      "text/plain": [
       "<Figure size 648x504 with 0 Axes>"
      ]
     },
     "metadata": {},
     "output_type": "display_data"
    },
    {
     "data": {
      "text/plain": [
       "<Figure size 648x504 with 0 Axes>"
      ]
     },
     "metadata": {},
     "output_type": "display_data"
    },
    {
     "data": {
      "text/plain": [
       "<Figure size 648x504 with 0 Axes>"
      ]
     },
     "metadata": {},
     "output_type": "display_data"
    },
    {
     "data": {
      "text/plain": [
       "<Figure size 648x504 with 0 Axes>"
      ]
     },
     "metadata": {},
     "output_type": "display_data"
    }
   ],
   "source": [
    "# NN output plot\n",
    "predictions = model.predict(X_test)\n",
    "#print(predictions)\n",
    "\n",
    "# TODO: check which order is actually signal (genuineTau) and which are background (fakeTau)\n",
    "genuineTau_decisions = predictions[:,0]\n",
    "fakeTau_decisions = predictions[:,1]\n",
    "\n",
    "plt.figure(figsize=(9,7))\n",
    "\n",
    "plt.hist(genuineTau_decisions, label='Genuine Taus', \n",
    "        histtype='step', # lineplot that's unfilled\n",
    "        density=True, # normalize to form a probability density\n",
    "        linewidth=lw)\n",
    "plt.hist(fakeTau_decisions, label='Jets', \n",
    "        histtype='step', # lineplot that's unfilled\n",
    "        density=True, linewidth=lw) # normalize to form a probability density\n",
    "plt.xlabel('Neural Network output') # add x-axis label\n",
    "plt.ylabel('Arbitrary units') # add y-axis label\n",
    "plt.legend() # add legend\n",
    "plt.savefig(path.join(outputFolder, \"NN_output.png\"))\n",
    "plt.clf()\n",
    "\n",
    "from sklearn.metrics import roc_curve, auc\n",
    "# most tutorials slice the prediction for whatever reason with [:,1] but why?\n",
    "# predictions_ = predictions[:, 1]\n",
    "\n",
    "fpr, tpr, _ = roc_curve(y_test.argmax(axis=1), predictions[:, 1])\n",
    "\n",
    "plt.figure(figsize=(9,7))\n",
    "roc_auc = auc(fpr, tpr) # area under curve (AUC), ROC = Receiver operating characteristic\n",
    "plt.plot(fpr, tpr, label='ROC (area = %0.2f)'%(roc_auc), linewidth=lw) # plot test ROC curve\n",
    "plt.plot([0, 1], # x from 0 to 1\n",
    "         [0, 1], # y from 0 to 1\n",
    "         '--', # dashed line\n",
    "         color='red', label='Luck', linewidth=lw)\n",
    "\n",
    "plt.xlabel('False Positive Rate') # x-axis label\n",
    "plt.ylabel('True Positive Rate') # y-axis label\n",
    "plt.title('Receiver operating characteristic (ROC) curve') # title\n",
    "plt.legend() # add legend\n",
    "plt.grid() # add grid\n",
    "plt.savefig(path.join(outputFolder, \"ROC_Curve.png\"))\n",
    "plt.clf()\n",
    "\n",
    "print(\"\\n\")\n",
    "print(history.history)\n",
    "\n",
    "# Plot accuracy of NN\n",
    "plt.figure(figsize=(9,7))\n",
    "plt.plot(history.history['accuracy'])\n",
    "plt.plot(history.history['val_accuracy'])\n",
    "plt.ylabel('Accuracy')\n",
    "plt.xlabel('Epoch')\n",
    "plt.legend(['Training', 'Validation'], loc='best')\n",
    "plt.savefig(path.join(outputFolder, \"model_accuracy.png\"))\n",
    "plt.clf()\n",
    "# Plot loss of NN\n",
    "plt.figure(figsize=(9,7))\n",
    "plt.plot(history.history['loss'])\n",
    "plt.plot(history.history['val_loss'])\n",
    "plt.ylabel('Loss')\n",
    "plt.xlabel('Epoch')\n",
    "plt.legend(['Training', 'Validation'], loc='best')\n",
    "plt.savefig(path.join(outputFolder, \"model_loss.png\"))\n",
    "plt.clf()\n",
    "\n",
    "\n",
    "# evaluate the model\n",
    "_, train_acc = model.evaluate(X_train, y_train, verbose=1)\n",
    "_, test_acc = model.evaluate(X_test, y_test, verbose=1)\n",
    "print('Train: %.3f, Test: %.3f' % (train_acc, test_acc))"
   ]
  },
  {
   "cell_type": "code",
   "execution_count": 16,
   "metadata": {},
   "outputs": [
    {
     "name": "stdout",
     "output_type": "stream",
     "text": [
      "[[2.4251658e-03 9.9757487e-01]\n",
      " [8.7556082e-12 1.0000000e+00]\n",
      " [3.3225197e-01 6.6774803e-01]\n",
      " ...\n",
      " [1.7708087e-03 9.9822921e-01]\n",
      " [7.3936230e-01 2.6063770e-01]\n",
      " [1.9690809e-04 9.9980313e-01]]\n",
      "[1 1 1 0 0 0 1 0 1 0 1 1 0 0 1 0 0 1 1 1 1 0 0 1 0 0 1 0 1 0 1 1 0 0 1 1 1\n",
      " 0 1 0 0 0 0 1 1 1 1 1 0 1 1 1 1 0 0 0 1 1 1 1 0 0 1 1 0 1 0 0 0 0 1 1 0 1\n",
      " 0 0 1 1 0 1 1 0 0 0 0 0 0 0 1 0 1 1 1 1 1 0 1 1 1 1]\n",
      "[1 1 0 0 0 0 1 0 1 0 0 1 0 0 1 0 0 0 1 1 1 0 0 1 0 1 1 0 1 0 1 1 0 0 1 1 1\n",
      " 0 1 0 0 0 0 1 1 0 1 1 1 1 1 1 1 0 0 0 1 1 1 1 0 0 1 1 0 0 0 0 0 0 1 1 0 1\n",
      " 1 0 1 1 0 1 1 0 0 0 0 0 0 0 1 0 1 1 1 1 1 0 1 1 1 1]\n"
     ]
    }
   ],
   "source": [
    "print(predictions)\n",
    "print(predictions.argmax(1)[:100])\n",
    "print(y_test.argmax(1)[:100])"
   ]
  },
  {
   "cell_type": "code",
   "execution_count": 20,
   "metadata": {},
   "outputs": [
    {
     "data": {
      "image/png": "[encoded data removed]",
      "text/plain": [
       "<Figure size 648x504 with 1 Axes>"
      ]
     },
     "metadata": {
      "needs_background": "light"
     },
     "output_type": "display_data"
    }
   ],
   "source": [
    "plt.figure(figsize=(9,7))\n",
    "\n",
    "plt.hist(genuineTau_decisions, label='Genuine Taus', \n",
    "        histtype='step',\n",
    "         density=True,\n",
    "        linewidth=lw)\n",
    "plt.hist(fakeTau_decisions, label='Jets', \n",
    "        histtype='step', \n",
    "         density=True,\n",
    "         linewidth=lw)\n",
    "plt.xlabel('Neural Network output') # add x-axis label\n",
    "plt.ylabel('Arbitrary units') # add y-axis label\n",
    "plt.legend() # add legend\n",
    "plt.show()"
   ]
  },
  {
   "cell_type": "code",
   "execution_count": 19,
   "metadata": {},
   "outputs": [
    {
     "name": "stdout",
     "output_type": "stream",
     "text": [
      "[2.42516585e-03 8.75560822e-12 3.32251966e-01 9.53463137e-01\n",
      " 8.97779584e-01 7.65111923e-01 9.72640701e-05 9.66870129e-01\n",
      " 2.11539344e-07 5.44210136e-01 3.75901982e-02 6.37802854e-02\n",
      " 9.75991964e-01 8.31219316e-01 5.68319969e-02 6.48934007e-01\n",
      " 9.61853921e-01 4.30174470e-01 1.73422726e-04 2.38187127e-02\n",
      " 8.93409815e-05 9.45772648e-01 9.51306760e-01 2.55594001e-04\n",
      " 9.85802531e-01 5.59815407e-01 4.06437188e-01 7.07035720e-01\n",
      " 3.25798709e-03 5.11422396e-01 8.25230218e-03 2.61344248e-04\n",
      " 8.36662829e-01 5.73573470e-01 5.69544907e-04 4.07611672e-03\n",
      " 3.56881287e-07 8.91194582e-01 9.09437388e-02 9.49852049e-01\n",
      " 9.76423800e-01 9.81101274e-01 9.02959168e-01 2.96282640e-04\n",
      " 1.13855004e-01 2.82928437e-01 1.25544995e-01 1.90395355e-01\n",
      " 7.18322158e-01 6.98420033e-02 2.34909892e-09 1.98309356e-03\n",
      " 1.88256230e-03 9.64416981e-01 8.90508294e-01 9.63820934e-01\n",
      " 1.92888803e-03 7.27263478e-06 8.97679552e-02 8.61487910e-03\n",
      " 9.67218220e-01 9.00568187e-01 2.39377492e-03 1.92142669e-02\n",
      " 8.96636784e-01 1.46218168e-03 9.13960397e-01 9.49124992e-01\n",
      " 9.39664006e-01 9.65061486e-01 5.85107889e-04 1.26297837e-02\n",
      " 9.88412201e-01 5.50166182e-02 9.56870496e-01 9.56673324e-01\n",
      " 6.90190122e-04 1.38690793e-05 9.70803797e-01 1.13879948e-22\n",
      " 4.55536321e-02 9.44844663e-01 8.90861332e-01 9.23711836e-01\n",
      " 9.68484521e-01 9.74422455e-01 8.96489263e-01 9.35447335e-01\n",
      " 4.60514992e-01 9.45019126e-01 7.79808760e-02 1.94434612e-03\n",
      " 3.10364217e-01 7.65318619e-05 8.53341967e-02 9.77777660e-01\n",
      " 1.19966717e-04 6.44990243e-03 6.86766021e-03 5.86909366e-09]\n",
      "[0.99757487 1.         0.66774803 0.04653686 0.10222049 0.23488812\n",
      " 0.9999027  0.0331299  0.99999976 0.45578986 0.9624098  0.9362197\n",
      " 0.02400798 0.16878071 0.94316804 0.3510659  0.0381461  0.56982553\n",
      " 0.9998266  0.97618127 0.9999106  0.05422736 0.04869322 0.99974436\n",
      " 0.01419747 0.4401846  0.5935628  0.29296428 0.99674207 0.48857757\n",
      " 0.99174774 0.99973863 0.16333717 0.4264265  0.9994305  0.9959239\n",
      " 0.99999964 0.10880546 0.9090563  0.05014798 0.02357625 0.01889875\n",
      " 0.09704088 0.9997037  0.88614494 0.7170716  0.874455   0.8096047\n",
      " 0.28167784 0.930158   1.         0.99801695 0.99811745 0.03558306\n",
      " 0.1094917  0.03617908 0.99807113 0.9999927  0.9102321  0.9913851\n",
      " 0.03278182 0.09943178 0.99760616 0.98078567 0.10336328 0.9985378\n",
      " 0.08603957 0.05087495 0.06033598 0.03493848 0.9994149  0.98737025\n",
      " 0.01158782 0.94498336 0.04312951 0.04332666 0.9993098  0.9999862\n",
      " 0.02919619 1.         0.9544464  0.05515536 0.10913867 0.07628818\n",
      " 0.03151546 0.0255775  0.10351068 0.06455266 0.539485   0.05498086\n",
      " 0.92201906 0.9980557  0.68963575 0.99992347 0.9146658  0.02222232\n",
      " 0.9998801  0.99355006 0.9931324  1.        ]\n"
     ]
    }
   ],
   "source": [
    "print(genuineTau_decisions[:100])\n",
    "print(fakeTau_decisions[:100])"
   ]
  },
  {
   "cell_type": "code",
   "execution_count": null,
   "metadata": {},
   "outputs": [],
   "source": []
  }
 ],
 "metadata": {
  "interpreter": {
   "hash": "18e711687f31016629c64c84d23d27d9292aefc640ef90f9639fb07f22fea1b3"
  },
  "kernelspec": {
   "display_name": "Python 3",
   "language": "python",
   "name": "python3"
  },
  "language_info": {
   "codemirror_mode": {
    "name": "ipython",
    "version": 3
   },
   "file_extension": ".py",
   "mimetype": "text/x-python",
   "name": "python",
   "nbconvert_exporter": "python",
   "pygments_lexer": "ipython3",
   "version": "3.6.8"
  }
 },
 "nbformat": 4,
 "nbformat_minor": 2
}
