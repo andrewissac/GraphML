{
 "cells": [
  {
   "cell_type": "code",
   "execution_count": 20,
   "metadata": {},
   "outputs": [
    {
     "name": "stdout",
     "output_type": "stream",
     "text": [
      "\n",
      "(\"keys: ['tau_pt', 'tau_eta', 'tau_phi', 'tau_mass', 'tau_charge', \"\n",
      " \"'tau_decayMode', 'pfCand_DeltaPhi', 'pfCand_DeltaEta', 'pfCand_DeltaR', \"\n",
      " \"'pfCand_Pt', 'pfCand_Eta', 'pfCand_Phi', 'pfCand_Mass', 'pfCand_Charge', \"\n",
      " \"'pfCand_ParticleType', 'pfCand_JetDaughter', 'pfCand_PuppiWeightNoLep']\")\n",
      "\n",
      "\n",
      "name                 | typename                 | interpretation                \n",
      "---------------------+--------------------------+-------------------------------\n",
      "tau_pt               | float                    | AsDtype('>f4')\n",
      "tau_eta              | float                    | AsDtype('>f4')\n",
      "tau_phi              | float                    | AsDtype('>f4')\n",
      "tau_mass             | float                    | AsDtype('>f4')\n",
      "tau_charge           | int32_t                  | AsDtype('>i4')\n",
      "tau_decayMode        | int32_t                  | AsDtype('>i4')\n",
      "pfCand_DeltaPhi      | std::vector<float>       | AsJagged(AsDtype('>f4'), he...\n",
      "pfCand_DeltaEta      | std::vector<float>       | AsJagged(AsDtype('>f4'), he...\n",
      "pfCand_DeltaR        | std::vector<float>       | AsJagged(AsDtype('>f4'), he...\n",
      "pfCand_Pt            | std::vector<float>       | AsJagged(AsDtype('>f4'), he...\n",
      "pfCand_Eta           | std::vector<float>       | AsJagged(AsDtype('>f4'), he...\n",
      "pfCand_Phi           | std::vector<float>       | AsJagged(AsDtype('>f4'), he...\n",
      "pfCand_Mass          | std::vector<float>       | AsJagged(AsDtype('>f4'), he...\n",
      "pfCand_Charge        | std::vector<int32_t>     | AsJagged(AsDtype('>i4'), he...\n",
      "pfCand_ParticleType  | std::vector<int32_t>     | AsJagged(AsDtype('>i4'), he...\n",
      "pfCand_JetDaughter   | std::vector<int32_t>     | AsJagged(AsDtype('>i4'), he...\n",
      "pfCand_PuppiWeigh... | std::vector<float>       | AsJagged(AsDtype('>f4'), he...\n",
      "None\n"
     ]
    }
   ],
   "source": [
    "%matplotlib inline\n",
    "\n",
    "import uproot\n",
    "import glob\n",
    "import pprint\n",
    "import matplotlib.pyplot as plt\n",
    "\n",
    "\n",
    "pp = pprint.PrettyPrinter()\n",
    "files = glob.glob(\"/ceph/aissac/ntuple_for_graphs/prod_2018_v2_processed_v4\" + \"/**/*.root\", recursive=True)\n",
    "files = [file + ':taus' for file in files]\n",
    "#pp.pprint(files)\n",
    "\n",
    "folder = 'trimmed_200000_and_cut_deltaR_smaller_0Point5'\n",
    "folder = 'trimmed_500000_and_added_deltaPhiEtaR'\n",
    "testfile = f'/ceph/aissac/ntuple_for_graphs/prod_2018_v2_processed_v5/{folder}/DYJetsToLL_M-50_taus.root:taus'\n",
    "ttree = uproot.open(testfile)\n",
    "print(\"\")\n",
    "\n",
    "pp.pprint(f'keys: {ttree.keys()}')\n",
    "print(\"\")\n",
    "\n",
    "#pp.pprint(f'values: {ttree.values()}')\n",
    "print(\"\")\n",
    "\n",
    "pp.pprint(ttree.show())"
   ]
  },
  {
   "cell_type": "code",
   "execution_count": 2,
   "metadata": {},
   "outputs": [
    {
     "name": "stdout",
     "output_type": "stream",
     "text": [
      "graph count: 200000\n",
      "Max node count: 106\n",
      "Min node count: 2\n",
      "Max edge count: 11130\n",
      "Min edge count: 2\n"
     ]
    }
   ],
   "source": [
    "import awkward as ak\n",
    "plt.rcParams.update({'font.size': 16})\n",
    "\n",
    "pfCand_deltaPhi = ttree['pfCand_deltaPhi'].array()\n",
    "pfCand_deltaEta = ttree['pfCand_deltaEta'].array()\n",
    "pfCand_deltaR = ttree['pfCand_deltaR'].array()\n",
    "nNodes = [len(x) for x in pfCand_deltaPhi]\n",
    "nEdges = [x*(x-1) for x in nNodes]\n",
    "\n",
    "print(f'graph count: {len(pfCand_deltaPhi)}')\n",
    "\n",
    "print(f'Max node count: {max(nNodes)}')\n",
    "print(f'Min node count: {min(nNodes)}')\n",
    "\n",
    "print(f'Max edge count: {max(nEdges)}')\n",
    "print(f'Min edge count: {min(nEdges)}')"
   ]
  },
  {
   "cell_type": "code",
   "execution_count": 16,
   "metadata": {},
   "outputs": [
    {
     "name": "stdout",
     "output_type": "stream",
     "text": [
      "2\n",
      "106\n",
      "2.0 64.0\n",
      "2.52\n",
      "2.56\n",
      "2.6\n",
      "2.64\n",
      "2.68\n",
      "2.72\n",
      "2.76\n",
      "2.8\n",
      "2.84\n",
      "2.88\n",
      "2.92\n",
      "2.96\n",
      "3.0\n",
      "final binWidth: 3.0, maxVal: 77.0\n",
      "[ 2.  5.  8. 11. 14. 17. 20. 23. 26. 29. 32. 35. 38. 41. 44. 47. 50. 53.\n",
      " 56. 59. 62. 65. 68. 71. 74. 77.]\n"
     ]
    },
    {
     "data": {
      "image/png": "[encoded data removed]",
      "text/plain": [
       "<Figure size 720x504 with 1 Axes>"
      ]
     },
     "metadata": {
      "needs_background": "light"
     },
     "output_type": "display_data"
    },
    {
     "data": {
      "text/plain": [
       "'\\nplt.figure(figsize=(10,7))\\nplt.hist(nEdges, bins=nBins)\\nplt.title(f\\'edge count - {cut}\\')\\nplt.xlabel(\"edge count\")\\nplt.ylabel(\"frequency\")\\nplt.savefig(f\\'{cut}_EdgeCount.png\\')\\nplt.show()\\n'"
      ]
     },
     "execution_count": 16,
     "metadata": {},
     "output_type": "execute_result"
    }
   ],
   "source": [
    "#nBins = 100\n",
    "nBins = 'auto'\n",
    "cut = \"TEST\"\n",
    "\n",
    "print(min(nNodes))\n",
    "print(max(nNodes))\n",
    "import numpy as np\n",
    "nNodes = ak.to_numpy(ak.flatten(nNodes, axis=None))\n",
    "p = np.percentile(nNodes, [0,99])\n",
    "minVal = p[0]\n",
    "maxVal = p[1]\n",
    "print(minVal, maxVal)\n",
    "n = 25\n",
    "\n",
    "binWidth = (maxVal - minVal) / n\n",
    "while(binWidth.is_integer() == False):\n",
    "    maxVal += 1\n",
    "    binWidth = (maxVal-minVal) / n\n",
    "print(f'final binWidth: {binWidth}, maxVal: {maxVal}')\n",
    "bins = np.linspace(minVal, maxVal, n+1)\n",
    "print(bins)\n",
    "\n",
    "\"\"\"\n",
    "plt.figure(figsize=(10,7))\n",
    "plt.hist(ak.flatten(pfCand_deltaPhi, axis=None), bins=nBins)\n",
    "plt.title(f'pfCand_deltaPhi - {cut}')\n",
    "plt.xlabel(\"pfCand_deltaPhi\")\n",
    "plt.ylabel(\"frequency\")\n",
    "plt.savefig(f'{cut}_pfCand_deltaPhi.png')\n",
    "plt.show()\n",
    "\n",
    "plt.figure(figsize=(10,7))\n",
    "plt.hist(ak.flatten(pfCand_deltaEta, axis=None), bins=nBins)\n",
    "plt.title(f'pfCand_deltaEta - {cut}')\n",
    "plt.xlabel(\"pfCand_deltaEta\")\n",
    "plt.ylabel(\"frequency\")\n",
    "plt.savefig(f'{cut}_pfCand_deltaEta.png')\n",
    "plt.show()\n",
    "\n",
    "plt.figure(figsize=(10,7))\n",
    "plt.hist(ak.flatten(pfCand_deltaR, axis=None), bins=nBins)\n",
    "plt.title(f'pfCand_deltaR - {cut}')\n",
    "plt.xlabel(\"pfCand_deltaR\")\n",
    "plt.ylabel(\"frequency\")\n",
    "plt.savefig(f'{cut}_pfCand_deltaR.png')\n",
    "plt.show()\n",
    "\"\"\"\n",
    "\n",
    "plt.figure(figsize=(10,7))\n",
    "plt.hist(nNodes, bins=bins)\n",
    "plt.title(f'node count - {cut}')\n",
    "plt.xlabel(\"node count\")\n",
    "plt.ylabel(\"frequency\")\n",
    "plt.savefig(f'{cut}_NodeCount.png')\n",
    "plt.show()\n",
    "\"\"\"\n",
    "plt.figure(figsize=(10,7))\n",
    "plt.hist(nEdges, bins=nBins)\n",
    "plt.title(f'edge count - {cut}')\n",
    "plt.xlabel(\"edge count\")\n",
    "plt.ylabel(\"frequency\")\n",
    "plt.savefig(f'{cut}_EdgeCount.png')\n",
    "plt.show()\n",
    "\"\"\""
   ]
  },
  {
   "cell_type": "code",
   "execution_count": null,
   "metadata": {},
   "outputs": [],
   "source": []
  }
 ],
 "metadata": {
  "interpreter": {
   "hash": "18e711687f31016629c64c84d23d27d9292aefc640ef90f9639fb07f22fea1b3"
  },
  "kernelspec": {
   "display_name": "Python 3",
   "language": "python",
   "name": "python3"
  },
  "language_info": {
   "codemirror_mode": {
    "name": "ipython",
    "version": 3
   },
   "file_extension": ".py",
   "mimetype": "text/x-python",
   "name": "python",
   "nbconvert_exporter": "python",
   "pygments_lexer": "ipython3",
   "version": "3.6.8"
  }
 },
 "nbformat": 4,
 "nbformat_minor": 2
}
